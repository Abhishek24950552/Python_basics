{
 "cells": [
  {
   "cell_type": "raw",
   "id": "c1cac375",
   "metadata": {},
   "source": [
    "tuple properties\n",
    "1. Immutable\n",
    "2. Ordered DataType\n",
    "3. Duplicate items are allowed\n",
    "4. Tuples are enclosed by parenthesis >> ()\n",
    "5. Tuple items are comma seperated\n",
    "6. DataTypes : int, float, complex, list, tuple, str, dict, series, df,etc\n",
    "\n",
    "tuple function\n",
    "1. count()\n",
    "2. index()"
   ]
  },
  {
   "cell_type": "code",
   "execution_count": null,
   "id": "5e414276",
   "metadata": {},
   "outputs": [],
   "source": [
    "# indexing and sclicing\n",
    "tuple1 = (2,3,6,7,8,10)\n",
    "tuple1[0]\n",
    "tuple1[3]\n",
    "\n",
    "tuple1 = (2,3,6,7,8,10)\n",
    "print(tuple1[1:4])\n",
    "print(tuple1[-5:-2])\n",
    "print(tuple1[1:-2])\n",
    "print(tuple1[-5:4])\n",
    "print(tuple1[1:4:1])\n",
    "print(tuple1[-5:-2:1])\n",
    "print(tuple1[1:-2:1])\n",
    "print(tuple1[-5:4:1])"
   ]
  },
  {
   "cell_type": "code",
   "execution_count": null,
   "id": "1c07a96a",
   "metadata": {},
   "outputs": [],
   "source": [
    "# how to create tuple\n",
    "tuple1 = (2,3,4,6)\n",
    "\n",
    "t1 = (10,) # tuple with 1 item notice , at end is must\n",
    "print(var1)\n",
    "type(var1)\n",
    "\n",
    "x = 100,200,300,400 #also tuple \n",
    "x\n",
    "\n",
    "x=tuple((1,2,3))\n",
    "print(type(x))"
   ]
  },
  {
   "cell_type": "code",
   "execution_count": null,
   "id": "3ed4cbcf",
   "metadata": {},
   "outputs": [],
   "source": [
    "# index()\n",
    "tuple1 = (2,3,4,5,5,7)\n",
    "tuple1.index(4)\n",
    "\n",
    "tuple1 = (2,3,4,5,5,7,5)\n",
    "index_list = tuple([i for i,val in enumerate(tuple1) if val == 5 ])\n",
    "index_list"
   ]
  },
  {
   "cell_type": "code",
   "execution_count": null,
   "id": "75712b64",
   "metadata": {},
   "outputs": [],
   "source": [
    "# count()\n",
    "# --tuple.count(val)\n",
    "tuple1 = (10,20,30,40,25,25,50,25,25,60)\n",
    "tuple1.count(10)"
   ]
  },
  {
   "cell_type": "code",
   "execution_count": null,
   "id": "442e224d",
   "metadata": {},
   "outputs": [],
   "source": [
    "# sorted()\n",
    "tuple1 = (10,20,30,40,25,25,50,25,25,60)\n",
    "sorted_tuple = tuple(sorted(tuple1))\n",
    "sorted_tuple"
   ]
  },
  {
   "cell_type": "code",
   "execution_count": null,
   "id": "7069d843",
   "metadata": {},
   "outputs": [],
   "source": [
    "# reversed()\n",
    "tuple1 = (10,20,30,40,25,25,50,25,25,60)\n",
    "reversed_tuple = tuple(reversed(tuple1))\n",
    "reversed_tuple"
   ]
  },
  {
   "cell_type": "code",
   "execution_count": null,
   "id": "d0b20e4e",
   "metadata": {},
   "outputs": [],
   "source": [
    "# min()\n",
    "tuple1 = (10,20,30,40,25,25,50,25,25,60)\n",
    "min(tuple1)"
   ]
  },
  {
   "cell_type": "code",
   "execution_count": null,
   "id": "5d4bd9ae",
   "metadata": {},
   "outputs": [],
   "source": [
    "# max()\n",
    "tuple1 = (10,20,30,40,25,205,50,25,25,60)\n",
    "max(tuple1)"
   ]
  },
  {
   "cell_type": "code",
   "execution_count": null,
   "id": "a7cbef24",
   "metadata": {},
   "outputs": [],
   "source": [
    "# sum()\n",
    "tuple1 = (10,20,30,40,25,205,50,25,25,60)\n",
    "sum(tuple1)"
   ]
  },
  {
   "cell_type": "code",
   "execution_count": null,
   "id": "a460ba57",
   "metadata": {},
   "outputs": [],
   "source": [
    "# deepcopy()\n",
    "import copy \n",
    "\n",
    "tuple1 = (2,3,4,[10,20,30,40],6)\n",
    "tuple2 = copy.deepcopy(tuple1)\n",
    "tuple2[3][-1] = 4000\n",
    "print(tuple1)\n",
    "print(tuple2)"
   ]
  }
 ],
 "metadata": {
  "kernelspec": {
   "display_name": "Python 3 (ipykernel)",
   "language": "python",
   "name": "python3"
  },
  "language_info": {
   "codemirror_mode": {
    "name": "ipython",
    "version": 3
   },
   "file_extension": ".py",
   "mimetype": "text/x-python",
   "name": "python",
   "nbconvert_exporter": "python",
   "pygments_lexer": "ipython3",
   "version": "3.10.6"
  }
 },
 "nbformat": 4,
 "nbformat_minor": 5
}
