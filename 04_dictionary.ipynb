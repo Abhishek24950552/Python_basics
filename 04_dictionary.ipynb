{
 "cells": [
  {
   "cell_type": "raw",
   "id": "e466cbff",
   "metadata": {},
   "source": [
    "Properties-->\n",
    "--It is a collection of key and value pairs\n",
    "1. Mutable \n",
    "2. Ordered/Unordered\n",
    "3. Indexing is not allowed\n",
    "4. Keys can not be duplicate\n",
    "5. Values can be duplicate\n",
    "6. Dictionary are enclosed by {}, \n",
    "7. We can initialize dictionary by using {} or dict()\n",
    "\n",
    "Key >> Immutable (int, float, str, tuple, frozenset, complex)\n",
    "Values >> Any DataType(mutable or immutable):\n",
    "    (int, float, str, tuple, frozenset, complex,list, set, dict)\n",
    "\n",
    "Ordered   : Python version >= 3.7\n",
    "Unordered : Python version < 3.7  (Python2.7, Python 3.5, python 3.6)\n",
    "    \n",
    "Syntax :\n",
    "    d1 = {key : Value}\n",
    "    \n",
    "functions-->\n",
    "1. get()\n",
    "2. keys()\n",
    "3. values()\n",
    "4. items()\n",
    "5. update()\n",
    "6. pop()\n",
    "7. popitem()\n",
    "8. clear()\n",
    "9. fromkeys()\n",
    "10. setdefault()\n",
    "11.copy()"
   ]
  },
  {
   "cell_type": "code",
   "execution_count": 1,
   "id": "0a3b4d5e",
   "metadata": {},
   "outputs": [
    {
     "name": "stdout",
     "output_type": "stream",
     "text": [
      "{'a': 100, 'b': 200, 'c': 99}\n"
     ]
    },
    {
     "data": {
      "text/plain": [
       "99"
      ]
     },
     "execution_count": 1,
     "metadata": {},
     "output_type": "execute_result"
    }
   ],
   "source": [
    "dict1 = {'a':97,'b':98,'c':99, 'a':100,'b':200}\n",
    "print(dict1)\n",
    "dict1['c']"
   ]
  },
  {
   "cell_type": "code",
   "execution_count": null,
   "id": "5e77bbeb",
   "metadata": {},
   "outputs": [],
   "source": [
    "# we cannot use mutable data type in key of dict\n",
    "dict2 = {[1,2,3,4]:[1,4,9,16]}\n",
    "dict2 #-->invalid as list is mutable used in key\n",
    "dict3 = {{1,2,3,4}:[1,4,9,16]}\n",
    "dict2 #-->vaild as tuple is immutable"
   ]
  },
  {
   "cell_type": "code",
   "execution_count": 2,
   "id": "c277086a",
   "metadata": {},
   "outputs": [
    {
     "name": "stdout",
     "output_type": "stream",
     "text": [
      "None\n"
     ]
    }
   ],
   "source": [
    "# get()\n",
    "# --dict.get('Key')\n",
    "# --Return None : If key is not present\n",
    "dict1 = {'A':100, \"B\": 200, \"C\":300,\"D\":400, \"E\":500}\n",
    "dict1.get(\"A\")\n",
    "dict1 = {'A':100, \"B\": 200, \"C\":300,\"D\":400, \"E\":500}\n",
    "x=dict1.get(\"a\")\n",
    "print(x)"
   ]
  },
  {
   "cell_type": "code",
   "execution_count": null,
   "id": "46d117e8",
   "metadata": {},
   "outputs": [],
   "source": [
    "# keys()\n",
    "# --returns all keys from dict\n",
    "dict1 = {'A':100, \"B\": 200, \"C\":300,\"D\":400, \"E\":500}\n",
    "list(dict1.keys())\n",
    "\n",
    "dict2 = {'A':100, \"B\": 200, \"C\":300,\"D\":400, \"E\":500}\n",
    "x = list(dict2.keys())\n",
    "print(x)\n",
    "for key in x: \n",
    "    print(\"Key is :\",key)\n"
   ]
  },
  {
   "cell_type": "code",
   "execution_count": null,
   "id": "84ecb2cc",
   "metadata": {},
   "outputs": [],
   "source": [
    "# values()\n",
    "# --return all values from dict\n",
    "employee_details = {\"Name\":\"Suraj\",\n",
    "                   \"Age\":28,\n",
    "                   \"Designation\": \"Data Scientist\",\n",
    "                   \"Salary\" : 80000}\n",
    "\n",
    "employee_details.values()\n",
    "\n",
    "for val in employee_details.values():\n",
    "    print(\"Value is :\",val)"
   ]
  },
  {
   "cell_type": "code",
   "execution_count": 1,
   "id": "a49f1636",
   "metadata": {},
   "outputs": [
    {
     "data": {
      "text/plain": [
       "dict_items([('Name', 'Suraj'), ('Age', 28), ('Designation', 'Data Scientist'), ('Salary', 80000)])"
      ]
     },
     "execution_count": 1,
     "metadata": {},
     "output_type": "execute_result"
    }
   ],
   "source": [
    "# items()\n",
    "# --dict.items()\n",
    "# --Return key and values of dictionary\n",
    "employee_details = {\"Name\":\"Suraj\",\n",
    "                   \"Age\":28,\n",
    "                   \"Designation\": \"Data Scientist\",\n",
    "                   \"Salary\" : 80000}\n",
    "\n",
    "employee_details.items() # returns list of tuples containing key and value(key,value)\n",
    "for key, value in employee_details.items():\n",
    "    print(key, value)"
   ]
  },
  {
   "cell_type": "code",
   "execution_count": 5,
   "id": "2a28f0b4",
   "metadata": {},
   "outputs": [
    {
     "name": "stdout",
     "output_type": "stream",
     "text": [
      "Name Suraj\n",
      "Age 28\n",
      "Designation Data Scientist\n",
      "Salary 80000\n"
     ]
    }
   ],
   "source": [
    "# to access items in dict using for loop\n",
    "employee_details = {'Name': 'Suraj', 'Age': 28, \n",
    "                    'Designation': 'Data Scientist', 'Salary': 80000}\n",
    "for key in employee_details:\n",
    "    print(key,employee_details[key])"
   ]
  },
  {
   "cell_type": "code",
   "execution_count": 8,
   "id": "b6be3afd",
   "metadata": {},
   "outputs": [
    {
     "name": "stdout",
     "output_type": "stream",
     "text": [
      "{'Designation': 'Data Scientist', 'Salary': 80000, 'Name': 'Suraj', 'Age': 28}\n",
      "{'Name': 'Suraj', 'Age': 28, 'Designation': 'Data Scientist'}\n"
     ]
    }
   ],
   "source": [
    "# update()\n",
    "#--dict.update({key:value})\n",
    "\n",
    "#--Used to add two dictionaries\n",
    "employee_details1 = {'Name': 'Suraj', 'Age': 28}\n",
    "employee_details2 = {'Designation': 'Data Scientist', 'Salary': 80000}\n",
    "employee_details2.update(employee_details1)\n",
    "print(employee_details2)\n",
    "\n",
    "# to add item in dict\n",
    "employee_details1 = {'Name': 'Suraj', 'Age': 28}\n",
    "employee_details1.update({'Designation': 'Data Scientist'})\n",
    "print(employee_details1)\n"
   ]
  },
  {
   "cell_type": "code",
   "execution_count": null,
   "id": "b9771169",
   "metadata": {},
   "outputs": [],
   "source": [
    "# pop()\n",
    "# --delete item with help of key\n",
    "result = {'phy': 92, 'che': 94, 'math': 91, 'eng': 92, 'bio': 95}\n",
    "result.pop('math')\n",
    "print(result)"
   ]
  },
  {
   "cell_type": "code",
   "execution_count": null,
   "id": "c9116618",
   "metadata": {},
   "outputs": [],
   "source": [
    "# popitem()\n",
    "# remove last added item in dict\n",
    "result = {'phy': 92, 'che': 94, 'math': 91, 'eng': 92, 'bio': 95}\n",
    "result.popitem()\n",
    "print(result)"
   ]
  },
  {
   "cell_type": "code",
   "execution_count": null,
   "id": "6dabd6fe",
   "metadata": {},
   "outputs": [],
   "source": [
    "# clear()\n",
    "# --dict.clear()\n",
    "# --Delete all items from dictionary\n",
    "result = {'phy': 92, 'che': 94, 'math': 91, 'eng': 92, 'bio': 95}\n",
    "result.clear()\n",
    "print(result)"
   ]
  },
  {
   "cell_type": "code",
   "execution_count": null,
   "id": "117966f9",
   "metadata": {},
   "outputs": [],
   "source": [
    "# del keyword\n",
    "result = {'phy': 92, 'che': 94, 'math': 91, 'eng': 92, 'bio': 95}\n",
    "del result['phy']\n",
    "print(result)"
   ]
  },
  {
   "cell_type": "code",
   "execution_count": null,
   "id": "c5ad5be5",
   "metadata": {},
   "outputs": [],
   "source": [
    "# nested dict\n",
    "# --dictionary as a value in dictionary\n",
    "# --We can not use dictionary object as a key in dict\n",
    "employee_details =  {\"TC10021\": {'Name': 'Ajay',\n",
    "                                 'Age': 27,\n",
    "                                 'Company': 'TCS',\n",
    "                                 'Designation': 'Data Analyst',\n",
    "                                 'Salary': 70000,\n",
    "                                 'Location': 'Pune'},\n",
    "                    \"TC10041\": {'Name': 'Vijay',\n",
    "                                 'Age': 28,\n",
    "                                 'Company': 'TCS',\n",
    "                                 'Designation': 'Data Scientist',\n",
    "                                 'Salary': 90000,\n",
    "                                 'Location': 'Mumbai'}}\n",
    "\n",
    "employee_details\n",
    "employee_details['TC10050']['Designation']"
   ]
  },
  {
   "cell_type": "code",
   "execution_count": 1,
   "id": "d8af9c88",
   "metadata": {},
   "outputs": [
    {
     "data": {
      "text/plain": [
       "{'Phy': 100, 'Che': 100, 'Math': 100, 'bio': 100, 'Eng': 100}"
      ]
     },
     "execution_count": 1,
     "metadata": {},
     "output_type": "execute_result"
    }
   ],
   "source": [
    "# fromkeys()\n",
    "#-- dict.fromkeys(sequence,[val])\n",
    "#-- sequence >> list , tuple, str\n",
    "#-- Default value is None\n",
    "list1 = ['Phy',\"Che\",\"Math\",\"bio\",\"Eng\"]\n",
    "marks = dict.fromkeys(list1,100)\n",
    "marks"
   ]
  },
  {
   "cell_type": "code",
   "execution_count": 3,
   "id": "b938af0e",
   "metadata": {},
   "outputs": [
    {
     "data": {
      "text/plain": [
       "{'Name': 'Ajay', 'Age': 27, 'Company': 'TCS', 'Designation': 'Data Analyst'}"
      ]
     },
     "execution_count": 3,
     "metadata": {},
     "output_type": "execute_result"
    }
   ],
   "source": [
    "# setdefault()\n",
    "# --dict.setdefault(key,[val])\n",
    "# --dict.setdefault(key,[val])\n",
    "\n",
    "# we can also get values with this function just like get()\n",
    "employee_details = {'Name' : \"Ajay\",\n",
    "                   \"Age\": 27,\n",
    "                   \"Company\": \"TCS\",\n",
    "                   \"Designation\":\"Data Analyst\"\n",
    "                   }\n",
    "employee_details.setdefault('Designation')\n",
    "\n",
    "# we can also use to add item in dict\n",
    "employee_details = {'Name' : \"Ajay\",\n",
    "                   \"Age\": 27,\n",
    "                   \"Company\": \"TCS\",\n",
    "                   \"Designation\":\"Data Analyst\"\n",
    "                   }\n",
    "employee_details.setdefault('Location','Pune')\n",
    "employee_details\n",
    "\n",
    "# imp-->we cannot update values\n",
    "employee_details = {'Name' : \"Ajay\",\"Age\": 27,\"Company\": \"TCS\",\"Designation\":\"Data Analyst\"}\n",
    "employee_details.setdefault(\"Age\",30)\n",
    "employee_details"
   ]
  },
  {
   "cell_type": "code",
   "execution_count": null,
   "id": "e72f2072",
   "metadata": {},
   "outputs": [],
   "source": [
    "# copy()\n",
    "employee_details = {'Name' : \"Ajay\",\n",
    "                   \"Age\": 27,\n",
    "                   \"Company\": \"TCS\",\n",
    "                   \"Designation\":\"Data Analyst\"\n",
    "                   }\n",
    "\n",
    "new_dict = employee_details.copy()\n",
    "\n",
    "new_dict['Age'] = 29\n",
    "print(new_dict)\n",
    "print(employee_details)"
   ]
  },
  {
   "cell_type": "code",
   "execution_count": null,
   "id": "42124309",
   "metadata": {},
   "outputs": [],
   "source": [
    "# sorting\n",
    "\n",
    "# sorting dict by keys\n",
    "sub_marks = {'Phy': 92, 'Che': 88, 'Bio': 93, 'Eng': 91, 'Math': 95}\n",
    "\n",
    "result = {}\n",
    "for sub in sorted(sub_marks.keys()):\n",
    "    result.update({sub:sub_marks[sub]})\n",
    "print(result)\n",
    "\n",
    "# sorting dict by values\n",
    "sub_marks = {'Phy': 93, 'Che': 88, 'Bio': 93, 'Eng': 91, 'Math': 95}\n",
    "result = {}\n",
    "for marks in sorted(sub_marks.values()):\n",
    "    for sub in sub_marks:   \n",
    "        if marks == sub_marks[sub] and sub not in result:  \n",
    "            result.update({sub:marks})\n",
    "            break\n",
    "result\n",
    "\n"
   ]
  },
  {
   "cell_type": "code",
   "execution_count": 2,
   "id": "25990e5e",
   "metadata": {},
   "outputs": [
    {
     "data": {
      "text/plain": [
       "{2: 4,\n",
       " 4: 16,\n",
       " 6: 36,\n",
       " 8: 64,\n",
       " 10: 100,\n",
       " 12: 144,\n",
       " 14: 196,\n",
       " 16: 256,\n",
       " 18: 324,\n",
       " 20: 400,\n",
       " 22: 484,\n",
       " 24: 576,\n",
       " 26: 676,\n",
       " 28: 784}"
      ]
     },
     "execution_count": 2,
     "metadata": {},
     "output_type": "execute_result"
    }
   ],
   "source": [
    "# dict comprehension\n",
    "cube = {i:i**2 for i in range(2,30) if i%2 == 0 }\n",
    "cube"
   ]
  },
  {
   "cell_type": "code",
   "execution_count": null,
   "id": "6e7dac2d",
   "metadata": {},
   "outputs": [],
   "source": [
    "# count occurance of word\n",
    "string = \"\"\"We are learning Python and Data Science, Python is programming language \n",
    "            which is used in machine learning  and deep learning\"\"\"\n",
    "\n",
    "string_list = string.split()\n",
    "\n",
    "word_count = {}\n",
    "\n",
    "for word in string_list:\n",
    "    count = string_list.count(word)\n",
    "    word_count.update({word:count})\n",
    "word_count"
   ]
  },
  {
   "cell_type": "code",
   "execution_count": 1,
   "id": "2ed130ca",
   "metadata": {},
   "outputs": [
    {
     "data": {
      "text/plain": [
       "17"
      ]
     },
     "execution_count": 1,
     "metadata": {},
     "output_type": "execute_result"
    }
   ],
   "source": [
    "a='4*5-3'\n",
    "eval(a)"
   ]
  },
  {
   "cell_type": "code",
   "execution_count": 2,
   "id": "b23061f6",
   "metadata": {},
   "outputs": [
    {
     "data": {
      "text/plain": [
       "5.0"
      ]
     },
     "execution_count": 2,
     "metadata": {},
     "output_type": "execute_result"
    }
   ],
   "source": [
    "x=lambda a,b:a/b\n",
    "x(10,2)"
   ]
  },
  {
   "cell_type": "code",
   "execution_count": null,
   "id": "25d724e7",
   "metadata": {},
   "outputs": [],
   "source": []
  }
 ],
 "metadata": {
  "kernelspec": {
   "display_name": "Python 3 (ipykernel)",
   "language": "python",
   "name": "python3"
  },
  "language_info": {
   "codemirror_mode": {
    "name": "ipython",
    "version": 3
   },
   "file_extension": ".py",
   "mimetype": "text/x-python",
   "name": "python",
   "nbconvert_exporter": "python",
   "pygments_lexer": "ipython3",
   "version": "3.10.6"
  }
 },
 "nbformat": 4,
 "nbformat_minor": 5
}
