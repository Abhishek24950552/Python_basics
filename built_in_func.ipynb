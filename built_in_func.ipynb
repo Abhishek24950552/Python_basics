{
 "cells": [
  {
   "cell_type": "code",
   "execution_count": 11,
   "id": "2133073a",
   "metadata": {},
   "outputs": [
    {
     "data": {
      "text/plain": [
       "[('1', 'Virat', 35),\n",
       " ('2', 'Rohit', 36),\n",
       " ('3', 'Dhoni', 40),\n",
       " ('4', 'Kartik', 37)]"
      ]
     },
     "execution_count": 11,
     "metadata": {},
     "output_type": "execute_result"
    }
   ],
   "source": [
    "# zip()\n",
    "# we can use any iterables like string,list,tuple\n",
    "\n",
    "# --------------------------------------------------------------------------------------------\n",
    "# we can use multiple list or string or tuple but we can have output in list and tuple only\n",
    "players_name = ['Virat','Rohit','Dhoni','Kartik'] #we can use list,tuple,string\n",
    "age = [35,36,40,37] #we can use list,tuple,string\n",
    "x=\"1234\"\n",
    "list(zip(x,players_name,age))\n",
    "# [('1', 'Virat', 35),('2', 'Rohit', 36),('3', 'Dhoni', 40),('4', 'Kartik', 37)]\n",
    "\n",
    "# tuple(zip(players_name,age,x))\n",
    "\n",
    "# # if we want output in dict we can use only 2 variables as dict contain key:value pairs\n",
    "# players_name = ['Virat','Rohit','Dhoni','Kartik'] #we can use list,tuple,string\n",
    "# age = [35,36,40,37] #we can use list,tuple,string\n",
    "# dict(zip(players_name,age))"
   ]
  },
  {
   "cell_type": "code",
   "execution_count": 8,
   "id": "c7f8107e",
   "metadata": {},
   "outputs": [
    {
     "name": "stdout",
     "output_type": "stream",
     "text": [
      "[2, 4, 6]\n",
      "[1, 3, 5]\n",
      "['P', 'D', 'S']\n",
      "['Monday', 'Friday', 'Sunday']\n",
      "['ABHI', 'KALE', 'ABHISHEK']\n"
     ]
    }
   ],
   "source": [
    "# filter()\n",
    "# we can filter values based on pirticular function\n",
    "# syntax-->  filter(function , iterable)\n",
    "# this inner function is applied on each iten of iterable and values are filtered\n",
    "l1=[1,2,3,4,5,6]\n",
    "even=list(filter(lambda x : x%2==0,l1))\n",
    "odd=list(filter(lambda x : x%2 !=0,l1))\n",
    "print(even)\n",
    "print(odd)\n",
    "\n",
    "string = 'Python and Data Science'\n",
    "upper=list(filter(lambda x : x.isupper(),string))\n",
    "print(upper)\n",
    "\n",
    "list2 = [\"Monday\",'Tuesday', \"Wednesday\", \"Thursday\",\"Friday\",\"Saturday\",\"Sunday\"]\n",
    "list3 = list(filter(lambda x : len(x)==6,list2))\n",
    "print(list3)\n",
    "\n",
    "list11=[\"abhi\",\"kale\",\"abhishek\"]\n",
    "list21= list(map(lambda x : x.upper(),list11))\n",
    "print(list21)\n",
    "\n"
   ]
  },
  {
   "cell_type": "code",
   "execution_count": 24,
   "id": "59953955",
   "metadata": {},
   "outputs": [
    {
     "name": "stdout",
     "output_type": "stream",
     "text": [
      "['P', 'Y', 'T', 'H', 'O', 'N']\n"
     ]
    },
    {
     "data": {
      "text/plain": [
       "'akbahlie'"
      ]
     },
     "execution_count": 24,
     "metadata": {},
     "output_type": "execute_result"
    }
   ],
   "source": [
    "# map()\n",
    "# syntax--> map(function, iterables)\n",
    "# -->The map() function executes a specified function for each item in an iterable. \n",
    "#    The item is sent to the function as a parameter.\n",
    "\n",
    "string = 'Python'\n",
    "upper_char = list(map(lambda x : x.upper(), string))\n",
    "print(upper_char)\n",
    "\n",
    "list1 = [3,1,2,5,6,7,8,9,10]\n",
    "odd_list = list(map(lambda x : x%2 != 0,list1 ))\n",
    "odd_list\n",
    "\n",
    "list1 = [3,1,2,5,4]\n",
    "list2 = [7,8,9,10]\n",
    "result = list(map(lambda x,y: x+y,list1,list2 )) # here function is lambda and list1 and list2 are iertable\n",
    "result\n",
    "\n",
    "s1=\"abhi\"\n",
    "s2=\"kale\"\n",
    "result = \"\".join(list(map(lambda x,y : x+y,s1,s2)))\n",
    "result"
   ]
  },
  {
   "cell_type": "code",
   "execution_count": 18,
   "id": "8e65dc8c",
   "metadata": {},
   "outputs": [
    {
     "data": {
      "text/plain": [
       "False"
      ]
     },
     "execution_count": 18,
     "metadata": {},
     "output_type": "execute_result"
    }
   ],
   "source": [
    "# all()\n",
    "# all(iterable)\n",
    "# True /False\n",
    "\n",
    "# True >> If all elements are True(except 0 and False)\n",
    "# True >> If iterable is empty\n",
    "\n",
    "all([]) #-->true\n",
    "all([1,2,3,4,5]) #-->true\n",
    "all([0,0,0,0]) #->false as all element are 0 or false\n",
    "all([1,0,2]) #-->if any one vlue is 0 or false ans will be false\n",
    "all({0:100, 12 :144, 15:225}) #flase--> as in dict we use keys \n"
   ]
  },
  {
   "cell_type": "code",
   "execution_count": null,
   "id": "4d79ba45",
   "metadata": {},
   "outputs": [],
   "source": [
    "# any()\n",
    "any(iterable)\n",
    "True /False\n",
    "\n",
    "True >> If any element is True\n",
    "True >> If iterable is not empty\n",
    "\n",
    "False >> if all elements are 0 or false\n",
    "False >> if iterable is empty"
   ]
  },
  {
   "cell_type": "code",
   "execution_count": null,
   "id": "a0f050b3",
   "metadata": {},
   "outputs": [],
   "source": [
    "# chr()--> gives chr for ascii value\n",
    "# ord()--> gives ascii value for char or element"
   ]
  },
  {
   "cell_type": "code",
   "execution_count": null,
   "id": "8eb21410",
   "metadata": {},
   "outputs": [],
   "source": [
    "# bin()-->to convert to binary formt \n",
    "# format()-->convert int to diff format and gives result in str\n",
    "# format(10,\"b\")--->to get bin output without 0b \n",
    "# format(10,\"f\")--->to get float output "
   ]
  },
  {
   "cell_type": "code",
   "execution_count": null,
   "id": "17199629",
   "metadata": {},
   "outputs": [],
   "source": [
    "# input()\n",
    "# to take input from user and it is in str form"
   ]
  },
  {
   "cell_type": "code",
   "execution_count": 22,
   "id": "4cf58d36",
   "metadata": {},
   "outputs": [
    {
     "data": {
      "text/plain": [
       "3.0"
      ]
     },
     "execution_count": 22,
     "metadata": {},
     "output_type": "execute_result"
    }
   ],
   "source": [
    "# evel()-->used to convert str to proper format or to solve expression in str form\n",
    "eval(\"1.2\")#-->1.2\n",
    "eval(\"100\")#-->100\n",
    "eval(\"2+2/2\")#-->3.0"
   ]
  },
  {
   "cell_type": "code",
   "execution_count": 28,
   "id": "7bf6300a",
   "metadata": {},
   "outputs": [
    {
     "name": "stdout",
     "output_type": "stream",
     "text": [
      "1,2,3,4,5\n"
     ]
    },
    {
     "data": {
      "text/plain": [
       "[1, 2, 3, 4, 5]"
      ]
     },
     "execution_count": 28,
     "metadata": {},
     "output_type": "execute_result"
    }
   ],
   "source": [
    "# important how to create list or tuple by taking input from user\n",
    "list(eval(input())) #creat list by passing comma seperated values\n",
    "# we can make list or tuple "
   ]
  },
  {
   "cell_type": "code",
   "execution_count": null,
   "id": "eb52f558",
   "metadata": {},
   "outputs": [],
   "source": [
    "# abs()\n",
    "# gives absolute values "
   ]
  },
  {
   "cell_type": "code",
   "execution_count": 31,
   "id": "da83b5c7",
   "metadata": {},
   "outputs": [
    {
     "data": {
      "text/plain": [
       "3.15"
      ]
     },
     "execution_count": 31,
     "metadata": {},
     "output_type": "execute_result"
    }
   ],
   "source": [
    "# round(value,digits to round)\n",
    "round(3.147,2) #5 or above 5 makes to next value 3.1444-->3.14  and 3.14789-->3.15"
   ]
  },
  {
   "cell_type": "code",
   "execution_count": 2,
   "id": "2bb80743",
   "metadata": {},
   "outputs": [
    {
     "data": {
      "text/plain": [
       "(4, 2)"
      ]
     },
     "execution_count": 2,
     "metadata": {},
     "output_type": "execute_result"
    }
   ],
   "source": [
    "# pow(value,power)\n",
    "pow(5,2)\n",
    "# divmod(value1,value2)\n",
    "divmod(22,5)"
   ]
  },
  {
   "cell_type": "code",
   "execution_count": 37,
   "id": "e37ddbca",
   "metadata": {},
   "outputs": [
    {
     "name": "stdout",
     "output_type": "stream",
     "text": [
      "p\n",
      "y\n"
     ]
    }
   ],
   "source": [
    "# iter()-->used to iterate sequence\n",
    "s1=\"python\"\n",
    "i=iter(s1)\n",
    "# next()-->used to print nect value in sequence after appling iter\n",
    "x=next(i)\n",
    "print(x)\n",
    "y=next(i)\n",
    "print(y)"
   ]
  },
  {
   "cell_type": "code",
   "execution_count": null,
   "id": "426d9db2",
   "metadata": {},
   "outputs": [],
   "source": []
  }
 ],
 "metadata": {
  "kernelspec": {
   "display_name": "Python 3 (ipykernel)",
   "language": "python",
   "name": "python3"
  },
  "language_info": {
   "codemirror_mode": {
    "name": "ipython",
    "version": 3
   },
   "file_extension": ".py",
   "mimetype": "text/x-python",
   "name": "python",
   "nbconvert_exporter": "python",
   "pygments_lexer": "ipython3",
   "version": "3.10.6"
  }
 },
 "nbformat": 4,
 "nbformat_minor": 5
}
