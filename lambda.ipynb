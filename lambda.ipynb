{
 "cells": [
  {
   "cell_type": "raw",
   "id": "2d27ab25",
   "metadata": {},
   "source": [
    "# lambda functions-->\n",
    "        lambda functions are defined by using lambda keyword\n",
    "        lambda is reserved keyword in python\n",
    "\n",
    "        No need to use def keyword and return statement \n",
    "\n",
    "        Higher Order Functions >> Function takes argument as another function\n",
    "\n",
    "        map(function_name,iterables)\n",
    "        filter(function_name,)\n",
    "\n",
    "#lambda syntax-->\n",
    "        lambda arguments : expression\n",
    "\n",
    "        arguments >> Multiple  \n",
    "        expression >> Single "
   ]
  },
  {
   "cell_type": "code",
   "execution_count": 9,
   "id": "bfb7a06e",
   "metadata": {},
   "outputs": [
    {
     "data": {
      "text/plain": [
       "40"
      ]
     },
     "execution_count": 9,
     "metadata": {},
     "output_type": "execute_result"
    }
   ],
   "source": [
    "(lambda a,b : a*b)(3,4)\n",
    "# here a,b are arguments and a*b is exxpression to solve or print and (3,4) is arguments by user"
   ]
  },
  {
   "cell_type": "code",
   "execution_count": null,
   "id": "6f9a01c0",
   "metadata": {},
   "outputs": [],
   "source": [
    "(lambda a,b : a*b)(3,4,5)\n",
    "# here lambda function requires two args but we passed three"
   ]
  },
  {
   "cell_type": "code",
   "execution_count": null,
   "id": "0d85c185",
   "metadata": {},
   "outputs": [],
   "source": [
    "(lambda a,b=5 : a*b)(10)\n",
    "# here in lambda function default agguments is 5 so we can pass 1 or 2 args with any value and default val is 5"
   ]
  },
  {
   "cell_type": "code",
   "execution_count": null,
   "id": "b27facff",
   "metadata": {},
   "outputs": [],
   "source": [
    "mul = lambda a,b : a*b\n",
    "mul(3,4)\n",
    "mul = lambda a=4,b=5 : a*b\n",
    "mul(b=10)\n",
    "# here we are assign lambda fun to variable as mul "
   ]
  },
  {
   "cell_type": "code",
   "execution_count": 12,
   "id": "514a351e",
   "metadata": {},
   "outputs": [
    {
     "data": {
      "text/plain": [
       "'python'"
      ]
     },
     "execution_count": 12,
     "metadata": {},
     "output_type": "execute_result"
    }
   ],
   "source": [
    "x=lambda a : \"python\"\n",
    "x(10)\n",
    "x(\"abhi\")\n",
    "# here outpt will always be python"
   ]
  },
  {
   "cell_type": "code",
   "execution_count": 14,
   "id": "9ee8f8bc",
   "metadata": {},
   "outputs": [
    {
     "data": {
      "text/plain": [
       "125"
      ]
     },
     "execution_count": 14,
     "metadata": {},
     "output_type": "execute_result"
    }
   ],
   "source": [
    "# function to get squares\n",
    "sqr = lambda a : a**2\n",
    "sqr(12)\n",
    "\n",
    "# function to get cude \n",
    "cube = lambda a : a**3\n",
    "cube(5)"
   ]
  },
  {
   "cell_type": "code",
   "execution_count": 2,
   "id": "8e9763a0",
   "metadata": {},
   "outputs": [
    {
     "data": {
      "text/plain": [
       "3.0"
      ]
     },
     "execution_count": 2,
     "metadata": {},
     "output_type": "execute_result"
    }
   ],
   "source": [
    "# lambda to get average\n",
    "avg= lambda a,b,c : (a+b+c)/3\n",
    "avg(1,1,1)\n",
    "\n",
    "# lambda using arbitary arguments *args\n",
    "# lambda to get average of n args\n",
    "avg= lambda *args : sum(args)/len(args)\n",
    "avg(2,2,2)\n",
    "# we can use *anything like *list1 or *a or *x instead of *args\n",
    "avg= lambda *tuple1 : sum(tuple1)/len(tuple1)\n",
    "avg(3,3,3)"
   ]
  },
  {
   "cell_type": "code",
   "execution_count": 22,
   "id": "511e7979",
   "metadata": {},
   "outputs": [
    {
     "data": {
      "text/plain": [
       "4.0"
      ]
     },
     "execution_count": 22,
     "metadata": {},
     "output_type": "execute_result"
    }
   ],
   "source": [
    "# lambda using keyword args **kwargs\n",
    "avg= lambda **kwargs : sum(kwargs.values())/len(kwargs)\n",
    "avg(a=4,b=4,c=4)"
   ]
  },
  {
   "cell_type": "code",
   "execution_count": 33,
   "id": "469e62c7",
   "metadata": {},
   "outputs": [
    {
     "data": {
      "text/plain": [
       "[1, 3, 5]"
      ]
     },
     "execution_count": 33,
     "metadata": {},
     "output_type": "execute_result"
    }
   ],
   "source": [
    "# lambda to get square of list\n",
    "sqr=lambda list1 : [i**2 for i in list1]\n",
    "sqr([1,2,3,4])\n",
    "\n",
    "# lambda to get sqares of even num in list\n",
    "even_sqr= lambda list1 : [i**2 for i in list1 if i%2==0]\n",
    "even_sqr([1,2,3,4,5,6])\n",
    "\n",
    "# lambda to filter even and odd from list and create seperate list\n",
    "even= lambda list1 : [i for i in list1 if i%2==0]\n",
    "even([1,2,3,4,5])\n",
    "odd= lambda list1 : [i for i in list1 if i%2!=0]\n",
    "odd((1,2,3,4,5))"
   ]
  },
  {
   "cell_type": "code",
   "execution_count": 6,
   "id": "a73a0057",
   "metadata": {},
   "outputs": [
    {
     "data": {
      "text/plain": [
       "['p', 'y', 't', 'h', 'o', 'n']"
      ]
     },
     "execution_count": 6,
     "metadata": {},
     "output_type": "execute_result"
    }
   ],
   "source": [
    "# lambda to convert str to list\n",
    "str1=lambda x : [i for i in x]\n",
    "str1(\"python\")\n",
    "['p', 'y', 't', 'h', 'o', 'n']\n",
    "\n",
    "# # lambda to convert item to upper \n",
    "# str1=lambda x : [i.upper() for i in x if x.index(i)%2==0]\n",
    "# \"\".join(str1(\"abhishek\"))"
   ]
  },
  {
   "cell_type": "code",
   "execution_count": 41,
   "id": "0f400a8f",
   "metadata": {},
   "outputs": [
    {
     "data": {
      "text/plain": [
       "'pythonlanguage'"
      ]
     },
     "execution_count": 41,
     "metadata": {},
     "output_type": "execute_result"
    }
   ],
   "source": [
    "# lambda to add 2 strings\n",
    "s=lambda s1,s2 : s1+s2 \n",
    "s(\"python\",\"language\")"
   ]
  },
  {
   "cell_type": "code",
   "execution_count": 43,
   "id": "7cfbfcd6",
   "metadata": {},
   "outputs": [
    {
     "data": {
      "text/plain": [
       "[(2, 3), (4, 1), (0, 0)]"
      ]
     },
     "execution_count": 43,
     "metadata": {},
     "output_type": "execute_result"
    }
   ],
   "source": [
    "# important problem of sorting list of tupe by second value \n",
    "# for this study syntax for sort and sorted function and what are arguments in them\n",
    "l1=[(0,0),(2,3),(4,1)]\n",
    "sorted(l1 ,reverse=True, key = lambda x : x[1])"
   ]
  },
  {
   "cell_type": "code",
   "execution_count": 5,
   "id": "79a499d2",
   "metadata": {},
   "outputs": [],
   "source": [
    "# important converting dict to list of tuple-->most important step to sorting of dict by values and keys\n",
    "d1={'a':3,'b':2,'c':4,'d':0}\n",
    "lis=list(d1) #we cannot type cast directly as it will make list of only values['a', 'b', 'c', 'd']\n",
    "l1=[(key,value) for key,value in d1.items()]"
   ]
  },
  {
   "cell_type": "code",
   "execution_count": 56,
   "id": "e07a6f54",
   "metadata": {},
   "outputs": [
    {
     "name": "stdout",
     "output_type": "stream",
     "text": [
      "{'d': 0, 'b': 2, 'a': 3, 'c': 4}\n",
      "{'a': 3, 'b': 2, 'c': 4, 'd': 0}\n"
     ]
    }
   ],
   "source": [
    "# important sorting dict using lambda function\n",
    "# sorting on basis of values of dict\n",
    "# important point is lambda function used in key\n",
    "# also study syntax of sorted() function\n",
    "d1={'a':3,'b':2,'c':4,'d':0}\n",
    "l1=[(keys,values) for keys,values in d1.items()]\n",
    "d1=dict(sorted(l1,key=lambda x : x[1]))\n",
    "print(d1)\n",
    "\n",
    "# important sorting dict using lambda function\n",
    "# sorting on basis of keys\n",
    "# important point is lambda function used in key\n",
    "# also study syntax of sorted() function\n",
    "d={'a':3,'b':2,'c':4,'d':0}\n",
    "l=[(keys,values) for keys,values in d1.items()]\n",
    "d=dict(sorted(l1,key=lambda x : x[0]))\n",
    "print(d)"
   ]
  },
  {
   "cell_type": "code",
   "execution_count": null,
   "id": "56cc73ea",
   "metadata": {},
   "outputs": [],
   "source": []
  }
 ],
 "metadata": {
  "kernelspec": {
   "display_name": "Python 3 (ipykernel)",
   "language": "python",
   "name": "python3"
  },
  "language_info": {
   "codemirror_mode": {
    "name": "ipython",
    "version": 3
   },
   "file_extension": ".py",
   "mimetype": "text/x-python",
   "name": "python",
   "nbconvert_exporter": "python",
   "pygments_lexer": "ipython3",
   "version": "3.10.6"
  }
 },
 "nbformat": 4,
 "nbformat_minor": 5
}
