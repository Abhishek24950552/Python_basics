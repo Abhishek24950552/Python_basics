{
 "cells": [
  {
   "cell_type": "code",
   "execution_count": null,
   "id": "534996fe",
   "metadata": {},
   "outputs": [],
   "source": [
    "Properties-->\n",
    "\n",
    "1. Mutable >> Changable\n",
    "2. Unordered >> we can not use indexing and slicing\n",
    "3. Duplicates are not allowed\n",
    "4. Enclosed by {}\n",
    "5. Initialize with set()\n",
    "6. Sets item are comma seperaed\n",
    "7. We can add only Immutable items in set data type"
   ]
  },
  {
   "cell_type": "code",
   "execution_count": null,
   "id": "0e431395",
   "metadata": {},
   "outputs": [],
   "source": [
    "set functions-->\n",
    "1. add()\n",
    "2. update()\n",
    "3. union()\n",
    "4. remove()\n",
    "5. discard()\n",
    "6. pop()\n",
    "7. clear()\n",
    "8. issubset()\n",
    "9. issuperset()\n",
    "10. isdisjoint()\n",
    "11. intersection()\n",
    "12. intersection_update()\n",
    "13. difference()\n",
    "14. difference_update()\n",
    "15. symmetric_difference()\n",
    "16. symmetric_differance_update()"
   ]
  },
  {
   "cell_type": "code",
   "execution_count": 1,
   "id": "ee349dc3",
   "metadata": {},
   "outputs": [
    {
     "data": {
      "text/plain": [
       "{(3, 4, 5), 2, 3, 5, 8, 9}"
      ]
     },
     "execution_count": 1,
     "metadata": {},
     "output_type": "execute_result"
    }
   ],
   "source": [
    "# add()\n",
    "# --Used to add only one item in set \n",
    "set1 = {3,5,2,8,9}\n",
    "set1.add(4)\n",
    "set1\n",
    "\n",
    "set1 = {3,5,2,8,9}\n",
    "set1.add((3,4,5))\n",
    "set1"
   ]
  },
  {
   "cell_type": "code",
   "execution_count": 2,
   "id": "c683f7f0",
   "metadata": {},
   "outputs": [
    {
     "data": {
      "text/plain": [
       "{1, 2, 3, 4, 5, 6, 7, 10, 20, 30}"
      ]
     },
     "execution_count": 2,
     "metadata": {},
     "output_type": "execute_result"
    }
   ],
   "source": [
    "# update()\n",
    "set1 = {3,4,5,6,7,7} # 5\n",
    "set2 = {1,2,10,20,20,30} # 5\n",
    "set2.update(set1) #set removes duplicate values\n",
    "set2 \n"
   ]
  },
  {
   "cell_type": "code",
   "execution_count": 1,
   "id": "ce1701fb",
   "metadata": {},
   "outputs": [
    {
     "name": "stdout",
     "output_type": "stream",
     "text": [
      "set1 {3, 4, 5, 6, 7}\n",
      "set2 (5, 6, 7, 8, 9, 10)\n",
      "set3 [7, 10, 20, 30, 40]\n",
      "new set : {3, 4, 5, 6, 7, 8, 9, 10, 204, 20, 30, 40, 304} 13\n"
     ]
    }
   ],
   "source": [
    "# union()\n",
    "s1 = {3,4,5,6,7}\n",
    "s2 = (5,6,7,8,9,10)\n",
    "s3 = [7,10,20,30,40]\n",
    "s4 = [7,10,204,304,40]\n",
    "new_set = s1.union(s2,s3,s4)\n",
    "print('set1',s1)\n",
    "print('set2',s2)\n",
    "print('set3',s3)\n",
    "print(\"new set :\",new_set,len(new_set))"
   ]
  },
  {
   "cell_type": "code",
   "execution_count": null,
   "id": "e82b5900",
   "metadata": {},
   "outputs": [],
   "source": [
    "# remove()-->we need to pass value and if value is not present it returns error\n",
    "set1 = {3,4,5,6,7,5,5,10}\n",
    "set1.remove(5)\n",
    "set1\n",
    "\n",
    "set1 = {3,4,5,6,7,5,5,10}\n",
    "set1.remove(50)\n",
    "set1"
   ]
  },
  {
   "cell_type": "code",
   "execution_count": null,
   "id": "3dce5858",
   "metadata": {},
   "outputs": [],
   "source": [
    "# discard()-->we need to pass value and if value is not present it does not give error\n",
    "set1 = {3,4,5,6,7,5,5,10}\n",
    "set1.discard(56)\n",
    "set1"
   ]
  },
  {
   "cell_type": "code",
   "execution_count": null,
   "id": "3b5f2d94",
   "metadata": {},
   "outputs": [],
   "source": [
    "# pop()\n",
    "# --deletes random item from set\n",
    "set1 = {3,4,5,6,7,5,5,10}\n",
    "set1.pop()\n",
    "print(set1)"
   ]
  },
  {
   "cell_type": "code",
   "execution_count": 1,
   "id": "be6cf432",
   "metadata": {},
   "outputs": [
    {
     "data": {
      "text/plain": [
       "set()"
      ]
     },
     "execution_count": 1,
     "metadata": {},
     "output_type": "execute_result"
    }
   ],
   "source": [
    "# clear()\n",
    "# --removes all items from set\n",
    "set1 ={3,4,5,6,7,7,7,8}\n",
    "set1.clear()  # set()\n",
    "set1 #output will be set()"
   ]
  },
  {
   "cell_type": "code",
   "execution_count": 4,
   "id": "4474dad9",
   "metadata": {},
   "outputs": [
    {
     "name": "stdout",
     "output_type": "stream",
     "text": [
      "Set1 : {2, 4, 5, 6, 7, 8}\n",
      "Set2 : {6, 7, 8, 9, 10, 11}\n",
      "intersected_items : {8, 6, 7}\n"
     ]
    }
   ],
   "source": [
    "# intersection()\n",
    "# --set1.intersection(values) # val1,val2,..,valN\n",
    "# --values >> val1,val2,..,valN\n",
    "# --data type of variable should be >> set, list, tuple\n",
    "set1 = {2,4,5,6,7,8} # 6\n",
    "set2 = {6,7,8,9,10,11} # 7\n",
    "set3 ={3,4,5,6,7,7,7,8}\n",
    "\n",
    "intersected_items = set1.intersection(set2,set3)\n",
    "print(\"Set1 :\",set1)\n",
    "print(\"Set2 :\",set2)\n",
    "print(\"intersected_items :\",intersected_items)"
   ]
  },
  {
   "cell_type": "code",
   "execution_count": 3,
   "id": "494defe5",
   "metadata": {},
   "outputs": [
    {
     "name": "stdout",
     "output_type": "stream",
     "text": [
      "Set1 : {2, 6}\n",
      "Set2 : {2, 6, 7, 8, 9, 10, 11}\n"
     ]
    }
   ],
   "source": [
    "# intersection_update()\n",
    "# can take multiple arguments\n",
    "set1 = {2,4,5,6,7,8} # 6\n",
    "set2 = {2,6,7,8,9,10,11} # 7\n",
    "set3 = {6,2,71,81,91,110,11}\n",
    "set1.intersection_update(set2,set3)\n",
    "print(\"Set1 :\",set1) # 3\n",
    "print(\"Set2 :\",set2) # 7"
   ]
  },
  {
   "cell_type": "code",
   "execution_count": 5,
   "id": "69640c00",
   "metadata": {},
   "outputs": [
    {
     "name": "stdout",
     "output_type": "stream",
     "text": [
      "Set1 : {2, 4, 5, 6, 7, 8}\n",
      "Set2 : {6, 7, 8, 9, 10, 11}\n",
      "set3 : {3, 4, 5, 6, 7, 8}\n",
      "{2}\n"
     ]
    }
   ],
   "source": [
    "# differance()\n",
    "# --set1.difference(set2,set3,set4)\n",
    "# --It is used to find unique items from sets\n",
    "set1 = {2,4,5,6,7,8} # 6\n",
    "set2 = {6,7,8,9,10,11} # 7\n",
    "set3 ={3,4,5,6,7,7,7,8}\n",
    "\n",
    "set4 = set1.difference(set2,set3)\n",
    "print(\"Set1 :\",set1) # {2,4,5,6,7,8}\n",
    "print(\"Set2 :\",set2) # {6,7,8,9,10,11}\n",
    "print(\"set3 :\",set3) # {2,4,5}\n",
    "print(set4)"
   ]
  },
  {
   "cell_type": "code",
   "execution_count": 2,
   "id": "7c91e1d5",
   "metadata": {},
   "outputs": [
    {
     "name": "stdout",
     "output_type": "stream",
     "text": [
      "Set1 : {2, 4, 5, 6, 7, 8}\n",
      "Set2 : {9, 10, 11}\n"
     ]
    }
   ],
   "source": [
    "# differance_update()\n",
    "set1 = {2,4,5,6,7,8} # 6\n",
    "set2 = {6,7,8,9,10,11} # 7\n",
    "\n",
    "set2.difference_update(set1)\n",
    "print(\"Set1 :\",set1) # {2,4,5}\n",
    "print(\"Set2 :\",set2) # {6,7,8,9,10,11}"
   ]
  },
  {
   "cell_type": "code",
   "execution_count": 3,
   "id": "7e31cfdb",
   "metadata": {},
   "outputs": [
    {
     "name": "stdout",
     "output_type": "stream",
     "text": [
      "Set1 : {2, 4, 5, 6, 7, 8}\n",
      "Set2 : {6, 7, 8, 9, 10, 11}\n",
      "result : {2, 4, 5, 9, 10, 11}\n"
     ]
    }
   ],
   "source": [
    "# symmetric_differance() it takes only 2 arguments and original sets remains as it is.\n",
    "set1 = {2,4,5,6,7,8} # 6\n",
    "set2 = {6,7,8,9,10,11} # 7\n",
    "set3 ={3,4,5,6,7,7,7,8}\n",
    "\n",
    "result = set1.symmetric_difference(set2) #valid\n",
    "# result = set1.symmetric_difference(set2,set3) #invalid gives error\n",
    "print(\"Set1 :\",set1)\n",
    "print(\"Set2 :\",set2) \n",
    "print(\"result :\",result)"
   ]
  },
  {
   "cell_type": "code",
   "execution_count": 4,
   "id": "5ddcbb4f",
   "metadata": {},
   "outputs": [
    {
     "name": "stdout",
     "output_type": "stream",
     "text": [
      "Set1 : {2, 4, 5, 9, 10, 11}\n",
      "Set2 : {6, 7, 8, 9, 10, 11}\n"
     ]
    }
   ],
   "source": [
    "# symmertic_differance_update()\n",
    "set1 = {2,4,5,6,7,8} # 6\n",
    "set2 = {6,7,8,9,10,11} # 7\n",
    "s2 = {4,5,6}\n",
    "set1.symmetric_difference_update(set2) #valid as it takes only one argument\n",
    "# set1.symmetric_difference_update(set2,s2) #invalid as it takes only one argument\n",
    "print(\"Set1 :\",set1) # \n",
    "print(\"Set2 :\",set2) "
   ]
  },
  {
   "cell_type": "code",
   "execution_count": 4,
   "id": "88218938",
   "metadata": {},
   "outputs": [
    {
     "data": {
      "text/plain": [
       "True"
      ]
     },
     "execution_count": 4,
     "metadata": {},
     "output_type": "execute_result"
    }
   ],
   "source": [
    "# issuperset()\n",
    "s1 = {2,3,4,5,6,7,8}\n",
    "s2 = {4,5,6}\n",
    "\n",
    "s1.issuperset(s2)"
   ]
  },
  {
   "cell_type": "code",
   "execution_count": 11,
   "id": "a78e2185",
   "metadata": {},
   "outputs": [
    {
     "data": {
      "text/plain": [
       "True"
      ]
     },
     "execution_count": 11,
     "metadata": {},
     "output_type": "execute_result"
    }
   ],
   "source": [
    "# issubset() takes one arg\n",
    "s1 = {2,3,4,5,6,7,8}\n",
    "s2 = {4,5,6}\n",
    "s3 = {10,20,30}\n",
    "\n",
    "s2.issubset(s1)"
   ]
  },
  {
   "cell_type": "code",
   "execution_count": 13,
   "id": "3924d75a",
   "metadata": {},
   "outputs": [
    {
     "data": {
      "text/plain": [
       "True"
      ]
     },
     "execution_count": 13,
     "metadata": {},
     "output_type": "execute_result"
    }
   ],
   "source": [
    "# isdisjoint() takes one arg\n",
    "s1 = {2,3,4,5,6,7,8}\n",
    "s2 = {10,20,30}\n",
    "s3 = {4,5,6}\n",
    "\n",
    "s1.isdisjoint(s2)"
   ]
  },
  {
   "cell_type": "raw",
   "id": "ad7e7822",
   "metadata": {},
   "source": [
    "# Frozenset()\n",
    "properties-->\n",
    "1. Immutable >>we can not update frozenset\n",
    "2. Unordered\n",
    "3. Duplicate items are not allowed\n",
    "4. We can add only immutable items\n",
    "5. cannot use indexing and sclicing\n",
    "\n",
    "#Frozenset functions\n",
    "1. union()\n",
    "2. intersection()\n",
    "3. difference()\n",
    "4. symmetric_difference()\n",
    "5. issuperset()\n",
    "6. issubset()\n",
    "7. isdisjoint()"
   ]
  },
  {
   "cell_type": "code",
   "execution_count": null,
   "id": "322e7c36",
   "metadata": {},
   "outputs": [],
   "source": [
    "fs1 = frozenset((3,4,5,5,6,7))\n",
    "print(fs1,type(fs1))"
   ]
  },
  {
   "cell_type": "code",
   "execution_count": 5,
   "id": "44b8535b",
   "metadata": {},
   "outputs": [
    {
     "data": {
      "text/plain": [
       "frozenset({1, 3, 4, 5, 6, 7, 8, 9})"
      ]
     },
     "execution_count": 5,
     "metadata": {},
     "output_type": "execute_result"
    }
   ],
   "source": [
    "# union()\n",
    "var1 = frozenset({3,4,5,5,6} )\n",
    "var2 = frozenset([1,7,8,9,9])\n",
    "result = var1.union(var2)\n",
    "result"
   ]
  },
  {
   "cell_type": "code",
   "execution_count": 5,
   "id": "7ac30d9d",
   "metadata": {},
   "outputs": [
    {
     "name": "stdout",
     "output_type": "stream",
     "text": [
      "Var1 : frozenset({3, 4, 5, 6})\n",
      "Var2 : [1, 7, 8, 9, 6]\n",
      "Result : frozenset({6})\n"
     ]
    }
   ],
   "source": [
    "# intersection()\n",
    "var1 = frozenset({3,4,5,5,6} )\n",
    "# var2 = frozenset([1,7,8,9,6])\n",
    "var2 = [1,7,8,9,6]\n",
    "\n",
    "result = var1.intersection(var2)\n",
    "\n",
    "print(\"Var1 :\",var1)\n",
    "print(\"Var2 :\",var2)\n",
    "print(\"Result :\",result)"
   ]
  },
  {
   "cell_type": "code",
   "execution_count": 6,
   "id": "d2a92c2c",
   "metadata": {},
   "outputs": [
    {
     "name": "stdout",
     "output_type": "stream",
     "text": [
      "Var1 : frozenset({3, 4, 5, 6})\n",
      "Var2 : frozenset({1, 5, 6, 7, 8, 9})\n",
      "Result : frozenset({3, 4})\n"
     ]
    }
   ],
   "source": [
    "# difference()\n",
    "var1 = frozenset({3,4,5,5,6} )\n",
    "var2 = frozenset([1,7,5,8,9,6])\n",
    "\n",
    "result = var1.difference(var2)\n",
    "\n",
    "print(\"Var1 :\",var1)\n",
    "print(\"Var2 :\",var2)\n",
    "print(\"Result :\",result)"
   ]
  },
  {
   "cell_type": "code",
   "execution_count": null,
   "id": "27f299fc",
   "metadata": {},
   "outputs": [],
   "source": [
    "# symmetric_difference()\n",
    "var1 = frozenset({3,4,5,5,6} )\n",
    "var2 = frozenset([1,7,5,8,9,6])\n",
    "\n",
    "result = var1.symmetric_difference(var2)\n",
    "\n",
    "print(\"Var1 :\",var1)\n",
    "print(\"Var2 :\",var2)\n",
    "print(\"Result :\",result)"
   ]
  },
  {
   "cell_type": "code",
   "execution_count": null,
   "id": "21ac42b7",
   "metadata": {},
   "outputs": [],
   "source": [
    "# issuperset\n",
    "fs1 = frozenset({3,4,5,6,10,20,30,40} )\n",
    "fs2 = frozenset([3,4,5])\n",
    "\n",
    "fs1.issuperset(fs2)"
   ]
  },
  {
   "cell_type": "code",
   "execution_count": null,
   "id": "43fd558f",
   "metadata": {},
   "outputs": [],
   "source": [
    "# issubset()\n",
    "fs1 = frozenset({3,4,5,6,10,20,30,40} )\n",
    "fs2 = frozenset([3,4,5])\n",
    "\n",
    "fs1.issubset(fs2)"
   ]
  },
  {
   "cell_type": "code",
   "execution_count": null,
   "id": "b870d096",
   "metadata": {},
   "outputs": [],
   "source": [
    "# isdisjoint()\n",
    "fs1 = frozenset({3,4,5,6,10,20,30,40} )\n",
    "fs2 = frozenset([3,4,5])\n",
    "\n",
    "fs1.isdisjoint(fs2)"
   ]
  }
 ],
 "metadata": {
  "kernelspec": {
   "display_name": "Python 3 (ipykernel)",
   "language": "python",
   "name": "python3"
  },
  "language_info": {
   "codemirror_mode": {
    "name": "ipython",
    "version": 3
   },
   "file_extension": ".py",
   "mimetype": "text/x-python",
   "name": "python",
   "nbconvert_exporter": "python",
   "pygments_lexer": "ipython3",
   "version": "3.10.6"
  }
 },
 "nbformat": 4,
 "nbformat_minor": 5
}
