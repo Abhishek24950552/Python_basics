{
 "cells": [
  {
   "cell_type": "code",
   "execution_count": null,
   "id": "d7418e09",
   "metadata": {},
   "outputs": [],
   "source": [
    "String is a collection of characters surrounded by single quotes, double quotes and \n",
    "triple quotes(Triple single quotes or Triple double quotes)\n",
    "\n",
    "single quotes --> 'python'\n",
    "double quotes --> \"Python\"\n",
    "Triple single quotes --> ''' Python'''\n",
    "Triple double quotes --> \"\"\"Python\"\"\"\n",
    "\n",
    "characters --> digits(0-9), space, alphabates, Special Characters($,%,&,@,*,etc)\n",
    "\n",
    "We can not use single quotes in single quotes-->'abhishek's car'--> invalid \n",
    "We can not use double quotes in double quotes-->\"abhishek \"car\" is good\"-->invalid\n",
    "We can not use triple quotes in triple quotes-->'''abhishek '''car''' x'''-->invalid\n",
    "\n",
    "Imp-->triple quotes are used only for multiline comment we cannot use single or double quote for it."
   ]
  },
  {
   "cell_type": "code",
   "execution_count": null,
   "id": "13fc59f4",
   "metadata": {},
   "outputs": [],
   "source": [
    "str1= \"python and \"data\" science\" #invalid\n",
    "str2= \"python and 'data' science\" #valid\n",
    "print(str1)\n",
    "print(str2)"
   ]
  },
  {
   "cell_type": "code",
   "execution_count": null,
   "id": "1ecc202c",
   "metadata": {},
   "outputs": [],
   "source": [
    "sr1=\"python and \n",
    "data science\"\n",
    "str2='''python \n",
    "and data science'''\n",
    "print(str1) #invalid double qoutes are not used in multiline string\n",
    "print(str2) #valid"
   ]
  },
  {
   "cell_type": "code",
   "execution_count": null,
   "id": "4c2dd67f",
   "metadata": {},
   "outputs": [],
   "source": [
    "## escape char\n",
    "# bacl slash is used as escape char --> \\\n",
    "# str1 = 'python and \\'data\\' science' -->valid\n",
    "\n",
    "str1= 'python and 'data' science' #-->invalid\n",
    "str2= 'python and \\'data\\' science'\n",
    "print(str2)\n",
    "str3= \"python and \\\"data\\\" science\"\n",
    "print(str3)"
   ]
  },
  {
   "cell_type": "code",
   "execution_count": null,
   "id": "a40dbebd",
   "metadata": {},
   "outputs": [],
   "source": [
    "## new line\n",
    "\\n is used to add text to new line\n",
    "\n",
    "str1 = \"abhishek \\nkale\"\n",
    "print(str1)\n",
    "str2 = \"c:\\newfolder\" #here \\n is considered as new line \n",
    "#to avoide above case we can use \n",
    "str3 = \"c:\\\\newfolder\" #we need to add \\ for every \\ manually\n",
    "str4 = r\"c:\\newfolder\" #best way is to use r in front of string\n",
    "print(str2)\n",
    "print(str3)\n",
    "print(str4)\n",
    "\n",
    "## \\t\n",
    "#  --> \\t is used to add spaces\n",
    "str1 = 'abhi\\tkale'\n",
    "print(str1)\n",
    "str2 = 'c:\\temp'\n",
    "print(str2)\n",
    "str3 = r\"c:\\temp\"\n",
    "print(str3)\n"
   ]
  },
  {
   "cell_type": "code",
   "execution_count": null,
   "id": "c6f35cd2",
   "metadata": {},
   "outputs": [],
   "source": [
    "## string indexing and slicing\n",
    "indexing will  always start from zero\n",
    " a  b  h  i  s  h  e  k\n",
    " 0  1  2  3  4  5  6  7 --> positive indexing\n",
    "-8 -7 -6 -5 -4 -3 -2 -1 -->negative indexing\n",
    "\n",
    "## string slicing\n",
    "\n",
    "# string[start index : end index : step]\n",
    "# stsrt index is always included and end index is excluded \n",
    "# step is used to define step for printing o/p\n",
    "# string is always printed from left to right\n",
    "str1 = 'abhi'\n",
    "print(str1[1:3])\n",
    "str2 = 'abhishek'\n",
    "print(str2[1:5]) #-->1 included 5 excluded no of char (5-1)=4 \n",
    "print(str2[-5:-1]) #--> -5 included -1 excluded no of char 4\n",
    "print(str2[::]) #-->default start index is 0 and last index is (len-1) and default step is 1\n",
    "print(str2[4:3]) #no output\n",
    "print(str1[3:3]) #no output"
   ]
  },
  {
   "cell_type": "code",
   "execution_count": null,
   "id": "42f43831",
   "metadata": {},
   "outputs": [],
   "source": [
    "# capatilize() is used to make ist char of string capital\n",
    "str1 = \"abhi\"\n",
    "str2 = \"Abhishek\"\n",
    "str3 = \"ABHI\"\n",
    "str4 = \"ABHI IS LIT\"\n",
    "print(str1.capitalize())\n",
    "print(str2.capitalize())\n",
    "print(str3.capitalize())\n",
    "print(str4.capitalize())\n"
   ]
  },
  {
   "cell_type": "code",
   "execution_count": null,
   "id": "43feb614",
   "metadata": {},
   "outputs": [],
   "source": [
    "# upper() will convert all char to upper case\n",
    "str1= \"ABHI\"\n",
    "str2= \"Abhi\"\n",
    "str3= \"aBHi\"\n",
    "str4= \"abhi is lit\"\n",
    "print(str1.upper())\n",
    "print(str2.upper())\n",
    "print(str3.upper())\n",
    "print(str4.upper())\n"
   ]
  },
  {
   "cell_type": "code",
   "execution_count": null,
   "id": "620b5e60",
   "metadata": {},
   "outputs": [],
   "source": [
    "# lower() is used to convert char to lower case\n",
    "str1= \"ABHI\"\n",
    "str2= \"Abhi\"\n",
    "str3= \"aBHi\"\n",
    "str4= \"abhi is lit\"\n",
    "print(str1.lower())\n",
    "print(str2.lower())\n",
    "print(str3.lower())\n",
    "print(str4.lower())\n"
   ]
  },
  {
   "cell_type": "code",
   "execution_count": null,
   "id": "869cc3a9",
   "metadata": {},
   "outputs": [],
   "source": [
    "# title() is used to convert 1st char of all words capital\n",
    "str1= \"ABHI\"\n",
    "str2= \"Abhi\"\n",
    "str3= \"aBHi\"\n",
    "str4= \"abhi is lit\"\n",
    "print(str1.title())\n",
    "print(str2.title())\n",
    "print(str3.title())\n",
    "print(str4.title())\n"
   ]
  },
  {
   "cell_type": "code",
   "execution_count": null,
   "id": "4e4eeb11",
   "metadata": {},
   "outputs": [],
   "source": [
    "# swapcase invert case i.e upper to lower and vice versa\n",
    "str2= \"Abhi\"\n",
    "str3= \"aBHi\"\n",
    "str4= \"abhi iS LIT\"\n",
    "print(str2.swapcase())\n",
    "print(str3.swapcase())\n",
    "print(str4.swapcase())\n",
    "\n"
   ]
  },
  {
   "cell_type": "code",
   "execution_count": null,
   "id": "d8677d31",
   "metadata": {},
   "outputs": [],
   "source": [
    "# removes all leading blank spaces\n",
    "a = \"   abhi\"\n",
    "b = \" abhi\"\n",
    "print(a.lstrip())\n",
    "print(b.lstrip())\n",
    "\n",
    "# removes all trailing blank spaces\n",
    "a = \"abhi    \"\n",
    "b = \"abhi \"\n",
    "print(a.rstrip())\n",
    "print(b.rstrip())\n",
    "\n",
    "# removes all leading and trailing spaces \n",
    "a = \"   abhi   \"\n",
    "b = \"abhi   \"\n",
    "c = \"  abhi\"\n",
    "print(a.strip())\n",
    "print(b.strip())\n",
    "print(c.strip())"
   ]
  },
  {
   "cell_type": "code",
   "execution_count": 1,
   "id": "23e6c7b8",
   "metadata": {},
   "outputs": [
    {
     "name": "stdout",
     "output_type": "stream",
     "text": [
      "D*t* sc**nc* *s *n *nt*rd*sc*pl*n*ry f**ld th*t *s*s sc**nt*f*c m*th*ds,\n",
      "pr*c*ss*s, *lg*r*thms *nd syst*ms t* *xtr*ct kn*wl*dg* *nd *ns*ghts fr*m n**sy, \n",
      "str*ct*r*d *nd *nstr*ct*r*d d*t*, *nd *pply kn*wl*dg* fr*m d*t* *cr*ss * br**d r*ng* \n",
      "*f *ppl*c*t**n d*m**ns\n"
     ]
    }
   ],
   "source": [
    "# replace is used to find and replace perticular char or string\n",
    "# syntax--> string.rrplace(old_word,new_word)\n",
    "string = 'Python and Data Science'\n",
    "string.replace('Python',\"JAVA\") #it is case sensitive we cannot use python instead of Python\n",
    "\n",
    "# remove all vowels from given string and replace with *\n",
    "string = \"\"\"Data science is an interdisciplinary field that uses scientific methods,\n",
    "processes, algorithms and systems to extract knowledge and insights from noisy, \n",
    "structured and unstructured data, and apply knowledge from data across a broad range \n",
    "of application domains\"\"\"\n",
    "print(string.replace('a','*').replace('e','*').replace('i','*').replace('o','*').replace('u','*'))"
   ]
  },
  {
   "cell_type": "code",
   "execution_count": null,
   "id": "03d760e8",
   "metadata": {},
   "outputs": [],
   "source": [
    "string = '''Python and Data Science, Python is used for machine learning,\n",
    "Python is used for NLP and Depp Learning'''\n",
    "print(string.replace('Python','PYTHON',2)) # 2 is used to replace only 1st two instance of \"python\""
   ]
  },
  {
   "cell_type": "code",
   "execution_count": null,
   "id": "ea7ae674",
   "metadata": {},
   "outputs": [],
   "source": [
    "# count()\n",
    "str= 'Python and data science, Python is programming language.'\n",
    "str.count(\"python\") #can also use 'Python' but it is case sensitive 'python' will give o/p zero \n",
    "str.count(\" \") #gives count of blank spaces\n",
    "str1 = str.lower()\n",
    "str1.count(\"python\")\n",
    "\n",
    "str= 'Python and data science, Python is programming language.'\n",
    "count = str.lower().count(\"python\") # here str is converted to lower case and then count is performed\n",
    "print(count)\n",
    "\n",
    "str= 'Python and data science, Python is programming language.'\n",
    "str.count(\"Python\").upper() #here count return int value on which we cannot apply string function like upper\n",
    "# so we should first apply string function and then perform count"
   ]
  },
  {
   "cell_type": "code",
   "execution_count": null,
   "id": "8e0ead8a",
   "metadata": {},
   "outputs": [],
   "source": [
    "# index()\n",
    "index() is used to find index of given char or string \n",
    "it is case sensitive\n",
    "str.index(\"a\") and str.index(\"A\") is different\n",
    "\n",
    "str= 'Python and data science, Python is programming language.'\n",
    "print(str.index(\"a\"))#gives index of 1st occurance of a and gives error if elemnet is not present \n",
    "print(str.index(\"data\"))"
   ]
  },
  {
   "cell_type": "code",
   "execution_count": null,
   "id": "50876594",
   "metadata": {},
   "outputs": [],
   "source": [
    "# find()\n",
    "find also return index of string or char and return -1 if not found \n",
    "syntax --> str.find(\"a\",start_index,end_index)\n",
    "\n",
    "str1= 'Python and data science, Python is programming language.'\n",
    "str1.find(\"P\")# return 1st occurance of P\n",
    "str1.find(\"Data\")# return -1 if str/char is not present \n",
    "\n",
    "str1= 'Python and data science, Python is programming language.'\n",
    "str2=\"Data\"\n",
    "inx = str1.find(str2)\n",
    "if inx == -1:\n",
    "    print(f\"{str2} is not present in str1\")\n",
    "else:\n",
    "    print(f\"{str2} is present in str1\")\n"
   ]
  },
  {
   "cell_type": "code",
   "execution_count": null,
   "id": "7463331f",
   "metadata": {},
   "outputs": [],
   "source": [
    "# split()\n",
    "split is used to split string and convert it to list\n",
    "str1.split('_') here string will be split on basis of _\n",
    "\n",
    "str1= 'Python and data science, Python is programming language.'\n",
    "print(str1.split(\" \"))\n",
    "\n",
    "path= r\"D:\\abhi\\ds_Aug_22\\08_15\\Img1.jpg\"\n",
    "path.split(\"\\\\\")[-1].split(\".\")[0]\n",
    "\n",
    "str1= '''Python and data science, \n",
    "Python is programming language.'''\n",
    "str1.split(\"\\n\")"
   ]
  },
  {
   "cell_type": "code",
   "execution_count": null,
   "id": "d67e4f10",
   "metadata": {},
   "outputs": [],
   "source": [
    "# join()\n",
    "join is used to convert list to string\n",
    "syntax-->' 'join(list1)\n",
    "\n",
    "list1=[\"abhi\",\"kale\",\"is\",\"good\",\"at\",\"python\"]\n",
    "a=\" \".join(list1)\n",
    "b=\"-\".join(list1)\n",
    "print(a)\n",
    "print(b)\n",
    "\n",
    "list1=[\"abhi\",\"kale\",\"is\",\"good\",\"at\",\"python\"]\n",
    "x = '\\n'.join(list1)\n",
    "print(x)\n",
    "\n"
   ]
  },
  {
   "cell_type": "code",
   "execution_count": null,
   "id": "d1d7095d",
   "metadata": {},
   "outputs": [],
   "source": [
    "# endswith()\n",
    "endswith fun gives o/p in true or false\n",
    "sytax--> str1.endswith(\"a\")\n",
    "str1.endswith(\"abhi\")\n",
    "\n",
    "str1=\"abhi kale is good at python\"\n",
    "print(str1.endswith(\"n\"))\n",
    "print(str1.endswith(\"python\"))\n",
    "\n"
   ]
  },
  {
   "cell_type": "code",
   "execution_count": null,
   "id": "a17020b0",
   "metadata": {},
   "outputs": [],
   "source": [
    "# startswith()\n",
    "startswith() return value in true/false\n",
    "syntax-->str1.startswith('char/srting')\n",
    "\n",
    "str1=\"python\"\n",
    "print(str1.startswith(\"p\"))\n",
    "print(str1.startswith(\"py\"))"
   ]
  },
  {
   "cell_type": "code",
   "execution_count": null,
   "id": "40ceb164",
   "metadata": {},
   "outputs": [],
   "source": [
    "# isalnum()\n",
    "isalnum >> Is Alpha Numeric? >> \n",
    "\n",
    "a-z, A-Z, 0-9\n",
    "Space is not allowed\n",
    "Returns True/False Values\n",
    "\n",
    "string = 'Python'\n",
    "string.isalnum()"
   ]
  },
  {
   "cell_type": "code",
   "execution_count": null,
   "id": "7d93a934",
   "metadata": {},
   "outputs": [],
   "source": [
    "# isalpha()\n",
    "isalpha >> a-z A-Z\n",
    "True >> If the string contains only lower case(a-z) and upper(A-Z) case characters\n",
    "Space is not allowed\n",
    "\n",
    "string = 'python'\n",
    "string.isalpha()"
   ]
  },
  {
   "cell_type": "code",
   "execution_count": null,
   "id": "8354d9a4",
   "metadata": {},
   "outputs": [],
   "source": [
    "# isdecimal()\n",
    "True / False\n",
    "0-9\n",
    "True >> If the string contains only digits and unicode for digits(0-9)\n",
    "0 >> '\\u0030'\n",
    "1 >> '\\u0031'\n",
    "...\n",
    "9 >> '\\u0039'\n",
    "Space not allowed\n",
    "dot is not allowed\n",
    "\n",
    "string = '1234'\n",
    "string.isdecimal()\n",
    "\n",
    "string = '\\u0030'\n",
    "string.isdecimal()"
   ]
  },
  {
   "cell_type": "code",
   "execution_count": null,
   "id": "304530b6",
   "metadata": {},
   "outputs": [],
   "source": [
    "# isdigit()\n",
    "True / False\n",
    "True >> If the string contains digits, unicode for digits(0-9), \n",
    "True >> If the string contains subscript and superscript (unicode)\n",
    "\n",
    "0 >> '\\u0030'\n",
    "1 >> '\\u0031'\n",
    "...\n",
    "9 >> '\\u0039'\n",
    "Space not allowed\n",
    "dot is not allowed\n",
    "\n",
    "string = 'python'\n",
    "string.isdigit()\n",
    "\n",
    "string = '\\u2079' # x⁹\n",
    "string.isdigit()"
   ]
  },
  {
   "cell_type": "code",
   "execution_count": null,
   "id": "555982be",
   "metadata": {},
   "outputs": [],
   "source": [
    "# isnumeric()\n",
    "True / False\n",
    "True >> If the string contains digits, unicode for digits(0-9), \n",
    "True >> If the string contains subscript, superscript (unicode), vulgar fraction(1/2)\n",
    "\n",
    "0 >> '\\u0030'\n",
    "1 >> '\\u0031'\n",
    "...\n",
    "9 >> '\\u0039'\n",
    "Space not allowed\n",
    "dot is not allowed\n",
    "\n",
    "string = '234567'\n",
    "string.isnumeric()\n",
    "\n",
    "string = '\\u0040'\n",
    "string.isnumeric()\n",
    "\n"
   ]
  },
  {
   "cell_type": "code",
   "execution_count": null,
   "id": "e3ea9bfb",
   "metadata": {},
   "outputs": [],
   "source": [
    "# imp\n",
    "isdecimal >> 0-9, unicode(0-9)\n",
    "isdigit   >> 0-9, unicode(0-9), subscripts , superscript\n",
    "isnumeric >> 0-9, unicode(0-9), subscripts , superscript, vulgar fraction"
   ]
  },
  {
   "cell_type": "code",
   "execution_count": null,
   "id": "6b4998dc",
   "metadata": {},
   "outputs": [],
   "source": [
    "# islower()\n",
    "True/False\n",
    "True >> If all alphabets are in lower case\n",
    "Space is allowed\n",
    "\n",
    "string = 'python and data science'\n",
    "string.islower()\n",
    "\n",
    "# isupper()\n",
    "True/False\n",
    "True >> If all alphabets are in upper case\n",
    "Space and special chars are allowed\n",
    "\n",
    "string = 'PYTHON AND DATA SCIENCE'\n",
    "string.isupper()\n",
    "\n",
    "# istitle()\n",
    "True/False\n",
    "True >> If all alphabets are in title case\n",
    "Space and special chars are allowed\n",
    "\n",
    "string = 'Rohit Sharma'\n",
    "string.istitle()\n",
    "\n",
    "# isspace()\n",
    "True/False\n",
    "True >> If string contains only space (one or more spaces)\n",
    "\n",
    "string = ' '\n",
    "string.isspace()\n",
    "\n",
    "string = '                              i   '\n",
    "string.isspace()\n",
    "\n",
    "# string.iscapital()\n",
    "# there is no function as iscapital()"
   ]
  },
  {
   "cell_type": "code",
   "execution_count": null,
   "id": "d93268c6",
   "metadata": {},
   "outputs": [],
   "source": [
    "text = \"\"\"Data science is an interdisciplinary field that uses \n",
    "scientific methods, processes,\n",
    "         \n",
    "algorithms and systems to extract knowledge and insights from noisy,\n",
    "structured and \n",
    "                \n",
    "                        \n",
    "unstructured data, and apply knowledge from data across a broad range of application domains\"\"\"\n",
    "\n",
    "text_list = text.split('\\n')\n",
    "\n",
    "for line in text_list:\n",
    "    if not line.isspace():\n",
    "        print(\"Line :\",line)\n"
   ]
  },
  {
   "cell_type": "code",
   "execution_count": null,
   "id": "ff70de4d",
   "metadata": {},
   "outputs": [],
   "source": [
    "text = \"\"\"Data science is an interdisciplinary field that uses \n",
    "scientific methods, processes,\n",
    "         \n",
    "algorithms and systems to extract knowledge and insights from noisy,\n",
    "structured and \n",
    "                \n",
    "                        \n",
    "unstructured data, and apply knowledge from data across a broad range of application domains\"\"\"\n",
    "\n",
    "text_list = text.split('\\n')\n",
    "list1 = []\n",
    "for line in text_list:\n",
    "    if not line.isspace():\n",
    "        list1.append(line)\n",
    "\n",
    "# print(list1)\n",
    "\n",
    "new_text = '\\n'.join(list1)\n",
    "print(new_text)"
   ]
  },
  {
   "cell_type": "code",
   "execution_count": null,
   "id": "cb267704",
   "metadata": {},
   "outputs": [],
   "source": [
    "# zfill()\n",
    "zero filling\n",
    "\n",
    "string = 'data'\n",
    "len(string)\n",
    "\n",
    "string = 'data'\n",
    "string.zfill(5)"
   ]
  },
  {
   "cell_type": "code",
   "execution_count": null,
   "id": "baf83b81",
   "metadata": {},
   "outputs": [],
   "source": [
    "# center()\n",
    "string = 'python'\n",
    "string.center(8)\n",
    "\n",
    "string = 'python'\n",
    "string.center(80)"
   ]
  },
  {
   "cell_type": "code",
   "execution_count": null,
   "id": "dbd94d5c",
   "metadata": {},
   "outputs": [],
   "source": [
    "text = \"\"\"Data science is an interdisciplinary field that uses \n",
    "scientific methods, processes,\n",
    "         \n",
    "algorithms and systems to extract knowledge and insights from noisy,\n",
    "structured and \n",
    "                \n",
    "                        \n",
    "unstructured data, and apply knowledge from data across a broad range of application domains\"\"\"\n",
    "\n",
    "string = ' Remove Blank Lines '\n",
    "print(string.center(80,'*'))\n",
    "\n",
    "text_list = text.split('\\n')\n",
    "list1 = []\n",
    "for line in text_list:\n",
    "    if not line.isspace():\n",
    "        list1.append(line)\n",
    "\n",
    "# print(list1)\n",
    "\n",
    "new_text = '\\n'.join(list1)\n",
    "print(new_text)"
   ]
  }
 ],
 "metadata": {
  "kernelspec": {
   "display_name": "Python 3 (ipykernel)",
   "language": "python",
   "name": "python3"
  },
  "language_info": {
   "codemirror_mode": {
    "name": "ipython",
    "version": 3
   },
   "file_extension": ".py",
   "mimetype": "text/x-python",
   "name": "python",
   "nbconvert_exporter": "python",
   "pygments_lexer": "ipython3",
   "version": "3.10.6"
  }
 },
 "nbformat": 4,
 "nbformat_minor": 5
}
