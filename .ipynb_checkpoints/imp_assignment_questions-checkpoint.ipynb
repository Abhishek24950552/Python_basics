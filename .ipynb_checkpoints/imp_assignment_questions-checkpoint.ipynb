{
 "cells": [
  {
   "cell_type": "code",
   "execution_count": null,
   "id": "316580d1",
   "metadata": {},
   "outputs": [],
   "source": [
    "# prime number \n",
    "number = 5\n",
    "if number > 1:\n",
    "    for i in range(2, number):\n",
    "        if (number % i) == 0:\n",
    "            print(number, \"is not a prime number\")\n",
    "            break\n",
    "    else:\n",
    "        print(number, \"is a prime number\")\n",
    "else:\n",
    "    print(number, \"is not a prime number\")"
   ]
  },
  {
   "cell_type": "code",
   "execution_count": null,
   "id": "279ae03b",
   "metadata": {},
   "outputs": [],
   "source": [
    "# 3rd largest no\n",
    "l1=[1,2,3,4,5,4,100,100,233]\n",
    "l2=[]\n",
    "for i in l1:\n",
    "    if i not in l2:\n",
    "        l2.append(i)\n",
    "l2.sort()\n",
    "third_max_num=l2[-3]\n",
    "print(third_max_num)"
   ]
  },
  {
   "cell_type": "code",
   "execution_count": null,
   "id": "61fb5df3",
   "metadata": {},
   "outputs": [],
   "source": [
    "# list sorting \n",
    "#desending\n",
    "number=[1,5,6,9,0,0,5]\n",
    "for i in range(len(number)):\n",
    "    for j in range(i+1,len(number)):\n",
    "        if number[i]<number[j]:\n",
    "            number[i],number[j]=number[j],number[i]\n",
    "print(number)\n",
    "\n",
    "#ascending\n",
    "number=[1,5,6,9,0]\n",
    "for i in range(len(number)):\n",
    "    for j in range(i+1,len(number)):\n",
    "        if number[i]>number[j]:\n",
    "            number[i],number[j]=number[j],number[i]\n",
    "print(number)"
   ]
  },
  {
   "cell_type": "code",
   "execution_count": null,
   "id": "9f3b2676",
   "metadata": {},
   "outputs": [],
   "source": [
    "# list of int to single int\n",
    "l1=[11,33,50]\n",
    "l2=[]\n",
    "for i in l1:\n",
    "    l2.append(str(i))\n",
    "l2=\"\".join(l2)\n",
    "print(l2)"
   ]
  },
  {
   "cell_type": "code",
   "execution_count": null,
   "id": "d12adb5c",
   "metadata": {},
   "outputs": [],
   "source": [
    "# pascal triangle\n",
    "n=5\n",
    "o_list=[]\n",
    "for i in range(n):\n",
    "    i_list=[]\n",
    "    for j in range(i+1):\n",
    "        if j==0 or j==i:\n",
    "            i_list.append(1)\n",
    "        else:\n",
    "            i_list.append(o_list[i-1][j-1]+o_list[i-1][j])\n",
    "    o_list.append(i_list)\n",
    "print(o_list)\n",
    "for i in range(n):\n",
    "    for j in range(n-i-1):\n",
    "        print(\" \",end=\"\")\n",
    "    for j in range(i+1):\n",
    "        print(o_list[i][j],end=\" \")\n",
    "    print()"
   ]
  },
  {
   "cell_type": "code",
   "execution_count": null,
   "id": "8466ff1b",
   "metadata": {},
   "outputs": [],
   "source": [
    "x=\"python\"\n",
    "a=\"\"\n",
    "for i in x:\n",
    "    a+=i\n",
    "    print(a)\n",
    "    \n",
    "n=6\n",
    "for i in range(n,0,-1):\n",
    "    for j in range(i):\n",
    "        print(i,end=\" \")\n",
    "    print()\n",
    "    \n",
    "n=6\n",
    "for i in range(n,1,-1):\n",
    "    x=0\n",
    "    for j in range(i):\n",
    "        print(x,end=\" \")\n",
    "        x+=1\n",
    "    print()\n",
    "    \n",
    "x=1\n",
    "for i in range(1,4):\n",
    "    for j in range(i*2-1):\n",
    "        print(x,end=\" \")\n",
    "        x+=1\n",
    "    print()\n",
    "        \n",
    "n=7\n",
    "for i in range(1,n+1):\n",
    "    for j in range(1,i+1):\n",
    "        print(i*j,end=' ')\n",
    "    print()\n",
    "    \n",
    "n=5\n",
    "for i in range(1,n+1):\n",
    "    for j in range(1,n+1):\n",
    "        if j <= i:\n",
    "            print(i,end=' ')\n",
    "        else:\n",
    "            print(j,end=' ')\n",
    "    print()\n",
    "    \n"
   ]
  },
  {
   "cell_type": "code",
   "execution_count": null,
   "id": "0087f00c",
   "metadata": {},
   "outputs": [],
   "source": [
    "# dict sorting\n",
    "temperature = {'Mon': 25, 'Tue': 25, 'Wed': 30, 'Thru': 29, 'Fri': 28, 'Sat': 27, 'Sun': 24}\n",
    "result={}\n",
    "day_list=list(sorted(temperature.keys()))\n",
    "for day in day_list:\n",
    "    result.update({day:temperature[day]})\n",
    "print(result)\n",
    "\n",
    "temperature = {'Mon': 25, 'Tue': 25, 'Wed': 30, 'Thru': 29, 'Fri': 28, 'Sat': 27, 'Sun': 24}\n",
    "result={}\n",
    "temp_list=list(sorted(temperature.values()))\n",
    "for temp in temp_list:\n",
    "    for day in temperature:\n",
    "        if temp==temperature[day] and day not in result:\n",
    "            result.update({day:temp})\n",
    "            break\n",
    "print(result)"
   ]
  },
  {
   "cell_type": "code",
   "execution_count": null,
   "id": "8c55f34e",
   "metadata": {},
   "outputs": [],
   "source": [
    "# mirror string\n",
    "string=\"Abhi\"\n",
    "input_str=string.upper()\n",
    "ref_dict={}  #to store key value like {A:Z,B:Y,....Z:A}\n",
    "mirror_list=[] #to store mirroe values \n",
    "\n",
    "reverse=[chr(i) for i in range(90,64,-1)] #list to store values from A-Z\n",
    "straight=[chr(i) for i in range(65,91)] #list to store values from Z-A\n",
    "\n",
    "for j in range(0,len(straight)): #to populate ref_dict\n",
    "    ref_dict.update({straight[j]:reverse[j]})\n",
    "    \n",
    "for i in input_str: #to_populate mirror_list from values in ref_dict\n",
    "    mirror_list.append(ref_dict[i])\n",
    "\n",
    "output_str=\"\".join(mirror_list) #to convert list to ouyput string\n",
    "\n",
    "print(output_str)"
   ]
  },
  {
   "cell_type": "code",
   "execution_count": null,
   "id": "b3260fc2",
   "metadata": {},
   "outputs": [],
   "source": [
    "# largest prime factor\n",
    "n=10\n",
    "prime_list=[]\n",
    "d=2\n",
    "while n>1:\n",
    "    if n%d==0:\n",
    "        prime_list.append(d)\n",
    "        n=n/d\n",
    "    else:\n",
    "        d=d+1\n",
    "print(prime_list)\n",
    "largest_prime_factor=max(prime_list)\n",
    "print(\"largest_prime_factor: \",largest_prime_factor)"
   ]
  },
  {
   "cell_type": "code",
   "execution_count": null,
   "id": "52b29c46",
   "metadata": {},
   "outputs": [],
   "source": [
    "# important for loop scenerio\n",
    "'''find o/p of following code'''\n",
    "\n",
    "a=[\"a\",\"b\",\"c\",\"d\"]\n",
    "for a[-1] in a:\n",
    "    print(a[-1],end=\"\")"
   ]
  },
  {
   "cell_type": "code",
   "execution_count": null,
   "id": "c2daddd2",
   "metadata": {},
   "outputs": [],
   "source": [
    "'''Write a Python program to count the number of strings where the string length \n",
    "is 2 or more and the first and last character are same from a given list of strings'''\n",
    "\n",
    "a=['abc', 'xyz', 'aba', '1221']\n",
    "c=0\n",
    "for i in a:\n",
    "    if len(i)>=2 and i[0]==i[-1]:\n",
    "        c+=1\n",
    "print(c)"
   ]
  },
  {
   "cell_type": "code",
   "execution_count": null,
   "id": "c7af4110",
   "metadata": {},
   "outputs": [],
   "source": [
    "# get diff between 2 list\n",
    "a=[5,6,7]\n",
    "b=[1,2,3]\n",
    "diff=[]\n",
    "for i,val in enumerate(a):\n",
    "    d=val-b[i]\n",
    "    diff.append(d)\n",
    "print(diff)"
   ]
  },
  {
   "cell_type": "code",
   "execution_count": 31,
   "id": "3c30819b",
   "metadata": {},
   "outputs": [
    {
     "name": "stdout",
     "output_type": "stream",
     "text": [
      "['-', 'a', '-', 'b', '-', 'c']\n",
      "[0, 'a', 1, 'b', 2, 'c']\n"
     ]
    }
   ],
   "source": [
    "#add * in front of each element of list ['-', 'a', '-', 'b', '-', 'c']\n",
    "a=[\"a\",\"b\",\"c\"]\n",
    "c=[]\n",
    "for i in a:\n",
    "    c.append(\"-\")\n",
    "    c.append(i)\n",
    "print(c)\n",
    "\n",
    "#print index in front of each element in list [0, 'a', 1, 'b', 2, 'c']\n",
    "a=[\"a\",\"b\",\"c\"]\n",
    "c=[]\n",
    "for i,val in enumerate(a):\n",
    "    c.append(i)\n",
    "    c.append(val)\n",
    "print(c)"
   ]
  },
  {
   "cell_type": "code",
   "execution_count": 1,
   "id": "1ea5318f",
   "metadata": {},
   "outputs": [
    {
     "name": "stdout",
     "output_type": "stream",
     "text": [
      "0 1 1 2 3 5 8 13 "
     ]
    }
   ],
   "source": [
    "# febonacci series\n",
    "f=0\n",
    "s=1\n",
    "n=8\n",
    "print(f,s,end=\" \")\n",
    "for i in range(n-2):\n",
    "    print(f+s,end=\" \")\n",
    "    f,s=s,(f+s)"
   ]
  },
  {
   "cell_type": "code",
   "execution_count": 3,
   "id": "4d95f878",
   "metadata": {},
   "outputs": [
    {
     "name": "stdout",
     "output_type": "stream",
     "text": [
      "0 1 1 2 3 5 8 13 21 34 "
     ]
    }
   ],
   "source": [
    "f=0\n",
    "s=1\n",
    "n=10\n",
    "print(f,s,end=\" \")\n",
    "for i in range(n-2):\n",
    "    print(f+s,end=\" \")\n",
    "    f,s=s,f+s\n"
   ]
  },
  {
   "cell_type": "code",
   "execution_count": null,
   "id": "fb479505",
   "metadata": {},
   "outputs": [],
   "source": []
  }
 ],
 "metadata": {
  "kernelspec": {
   "display_name": "Python 3 (ipykernel)",
   "language": "python",
   "name": "python3"
  },
  "language_info": {
   "codemirror_mode": {
    "name": "ipython",
    "version": 3
   },
   "file_extension": ".py",
   "mimetype": "text/x-python",
   "name": "python",
   "nbconvert_exporter": "python",
   "pygments_lexer": "ipython3",
   "version": "3.10.6"
  }
 },
 "nbformat": 4,
 "nbformat_minor": 5
}
