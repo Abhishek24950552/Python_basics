{
 "cells": [
  {
   "cell_type": "markdown",
   "id": "b1221973",
   "metadata": {},
   "source": [
    "## list properties"
   ]
  },
  {
   "cell_type": "raw",
   "id": "04f64269",
   "metadata": {},
   "source": [
    "1. Mutable-->we can make changes in list\n",
    "2. Duplicates are allowed-->[1,1,2,3,3]-->valid\n",
    "3. Ordered Datatype-->each value is having perticular index\n",
    "4. enclosed by []-->[1,2,3,4,'python']\n",
    "5. Comma seperated-->each item in list is comma seperated[1,2,3]"
   ]
  },
  {
   "cell_type": "markdown",
   "id": "51fad500",
   "metadata": {},
   "source": [
    "## list functions"
   ]
  },
  {
   "cell_type": "raw",
   "id": "8f5d03b7",
   "metadata": {},
   "source": [
    "List Functions:\n",
    "    1. append()-->syntax-->list1.append(value)\n",
    "    2. extend()-->syntax-->list1.extend(value)\n",
    "    3. insert()-->syntax-->list1.insert(index,value)\n",
    "    4. remove()-->syntax-->list1.remove(value)\n",
    "    5. pop()-->syntax-->list1.pop(index)-->if we do not pass index it will remove last item in list\n",
    "    6. clear()-->list1.clear()-->removes all item from list\n",
    "    7. index()-->list1.index(value)-->gives index of perticular value(if same values are repeated gives index of 1st\n",
    "                 occurance\n",
    "    8. count()-->list1.count(value)-->count of perticular value\n",
    "    9. copy()-->copy list1 to list2 \n",
    "    --here if we modify list1 it will not make changes in list2\n",
    "    --but if we use same in nested if it will fail and make changes in both to avoid this use deepcopy\n",
    "      to use deepcopy import copy and then use deepcopy\n",
    "    10. sort()-->syntax-->list1.sort()\n",
    "    --list1.sort() or list1.sort(reverse=false)-->sort in ascending order\n",
    "    --list1.sort(reverse=true)-->sort in descending order\n",
    "    --list1=[1,2,3,\"python\"]--we cannot sort such list\n",
    "    --list1=[\"python\",\"Data\",\"dat\",\"Python\"]--first capital are sorted and then small-case\n",
    "    11. reverse()-->syntax-->list1.reverse() or list1=list1[::-1]\n",
    "\n",
    "Built in Functions:\n",
    "    1. sorted()-->syntax-->sorted(list1)--we need to assign variable to print\n",
    "    2. reversed()-->syntax-->reversed(list1)--we need to assign variable to print\n",
    "    3. max()-->syntax-->max(list1)-->return max value from list\n",
    "           if list1=[1,2,3,\"python\"] we cannot use max function\n",
    "    4. min()-->syntax-->mix(list1)-->return mix value from list\n",
    "           if list1=[1,2,3,\"python\"] we cannot use min function\n",
    "    5. sum()-->syntax-->sum(list1)-->return sum of all values\n",
    "    \n",
    "del keyword-->del is not function but is keyword \n",
    "    del string --will delete string variable\n",
    "    del list1--will delete list1\n",
    "    del list1[1]--will delete value at 1 index from list1"
   ]
  },
  {
   "cell_type": "code",
   "execution_count": 17,
   "id": "30c5a79b",
   "metadata": {},
   "outputs": [
    {
     "data": {
      "text/plain": [
       "['Python', 'python']"
      ]
     },
     "execution_count": 17,
     "metadata": {},
     "output_type": "execute_result"
    }
   ],
   "source": [
    "list1=[\"Python\",\"python\"]\n",
    "list1.sort()\n",
    "list1"
   ]
  },
  {
   "cell_type": "code",
   "execution_count": null,
   "id": "ff69a364",
   "metadata": {},
   "outputs": [],
   "source": [
    "## append and extend functions"
   ]
  },
  {
   "cell_type": "code",
   "execution_count": null,
   "id": "3608a67d",
   "metadata": {},
   "outputs": [],
   "source": [
    "list1 = [1,2,3]\n",
    "list2 = [4,5,6]\n",
    "# list1.append(list2) #o/p will be list1=[1,2,3,[4,5,6]] and list2=[4,5,6]\n",
    "# list1.extend(list2) # o/p will be list1=[1,2,3,4,5,6] and list2=[4,5,6]\n",
    "print(list1)\n",
    "print(list2)"
   ]
  },
  {
   "cell_type": "code",
   "execution_count": null,
   "id": "17a92c16",
   "metadata": {},
   "outputs": [],
   "source": [
    "## insert()"
   ]
  },
  {
   "cell_type": "code",
   "execution_count": 20,
   "id": "2d7da620",
   "metadata": {},
   "outputs": [
    {
     "data": {
      "text/plain": [
       "[1, 'ptyhon', 2, 3]"
      ]
     },
     "execution_count": 20,
     "metadata": {},
     "output_type": "execute_result"
    }
   ],
   "source": [
    "l1=[1,2,3]\n",
    "l1.insert(1,'ptyhon')\n",
    "l1"
   ]
  },
  {
   "cell_type": "code",
   "execution_count": null,
   "id": "f8eabf0b",
   "metadata": {},
   "outputs": [],
   "source": [
    "## remove()"
   ]
  },
  {
   "cell_type": "code",
   "execution_count": 21,
   "id": "b13e7dc3",
   "metadata": {},
   "outputs": [
    {
     "data": {
      "text/plain": [
       "[1, 2]"
      ]
     },
     "execution_count": 21,
     "metadata": {},
     "output_type": "execute_result"
    }
   ],
   "source": [
    "l1=[1,2,3]\n",
    "l1.remove(3)\n",
    "l1"
   ]
  },
  {
   "cell_type": "code",
   "execution_count": null,
   "id": "b80b7fb4",
   "metadata": {},
   "outputs": [],
   "source": [
    "## pop()"
   ]
  },
  {
   "cell_type": "code",
   "execution_count": 22,
   "id": "642c940d",
   "metadata": {},
   "outputs": [
    {
     "data": {
      "text/plain": [
       "[1, 2, 4]"
      ]
     },
     "execution_count": 22,
     "metadata": {},
     "output_type": "execute_result"
    }
   ],
   "source": [
    "l1=[1,2,3,4,5]\n",
    "l1.pop(2) #removes 2nd index value\n",
    "l1.pop() #removes last index value as index is not mentioned\n",
    "l1"
   ]
  },
  {
   "cell_type": "code",
   "execution_count": null,
   "id": "c88bbb64",
   "metadata": {},
   "outputs": [],
   "source": [
    "## clear()"
   ]
  },
  {
   "cell_type": "code",
   "execution_count": 23,
   "id": "0274a2a2",
   "metadata": {},
   "outputs": [
    {
     "data": {
      "text/plain": [
       "[]"
      ]
     },
     "execution_count": 23,
     "metadata": {},
     "output_type": "execute_result"
    }
   ],
   "source": [
    "l1=[1,2,3]\n",
    "l1.clear()\n",
    "l1"
   ]
  },
  {
   "cell_type": "code",
   "execution_count": null,
   "id": "0aae146b",
   "metadata": {},
   "outputs": [],
   "source": [
    "## del keyword(impportant)"
   ]
  },
  {
   "cell_type": "code",
   "execution_count": 26,
   "id": "4c91ab56",
   "metadata": {},
   "outputs": [
    {
     "data": {
      "text/plain": [
       "[1, 3]"
      ]
     },
     "execution_count": 26,
     "metadata": {},
     "output_type": "execute_result"
    }
   ],
   "source": [
    "string=\"python\"\n",
    "del string #--will delete string variable\n",
    "string1\n",
    "\n",
    "list1=[1,2,3]\n",
    "del list1 #--will delete list1\n",
    "list\n",
    "\n",
    "list2=[1,2,3]\n",
    "del list2[1] #--will delete value at 1 index from list1\n",
    "list2"
   ]
  },
  {
   "cell_type": "code",
   "execution_count": 32,
   "id": "504a8464",
   "metadata": {},
   "outputs": [],
   "source": [
    "## swap 1st and last cahr program logic"
   ]
  },
  {
   "cell_type": "code",
   "execution_count": null,
   "id": "9cb18b24",
   "metadata": {},
   "outputs": [],
   "source": [
    "s1=\"python\"\n",
    "s1=list(s1)\n",
    "s1[0],s1[-1]=s1[-1],s1[0]\n",
    "s1=''.join(s1)\n",
    "print(s1)\n",
    "\n",
    "l1=[1,2,3,4]\n",
    "l1[0],l1[-1]=l1[-1],l1[0]\n",
    "l1"
   ]
  },
  {
   "cell_type": "code",
   "execution_count": null,
   "id": "c75935d4",
   "metadata": {},
   "outputs": [],
   "source": [
    "## index()"
   ]
  },
  {
   "cell_type": "code",
   "execution_count": 38,
   "id": "422a4c80",
   "metadata": {},
   "outputs": [
    {
     "name": "stdout",
     "output_type": "stream",
     "text": [
      "1 Mumbai\n",
      "3 Mumbai\n",
      "6 Mumbai\n",
      "7 Mumbai\n",
      "8 Mumbai\n"
     ]
    }
   ],
   "source": [
    "l1=['a','b','c']\n",
    "l1.index(\"a\")\n",
    "\n",
    "#-----------------to print index along with city name----------------------------\n",
    "city_names = ['Pune', 'Mumbai', 'Delhi',  'Mumbai', 'Chennai', 'Bangalore' ,'Mumbai',  'Mumbai',  'Mumbai', ]\n",
    "        #by using index we get index of 1st occurance only to get index of duplicate iten we use below code\n",
    "for index,city in enumerate(city_names):\n",
    "    print(index,city)\n",
    "    \n",
    "#-----------------to find index of all Mumbai-------------------------------------    \n",
    "city_names = ['Pune', 'Mumbai', 'Delhi',  'Mumbai', 'Chennai', 'Bangalore' ,'Mumbai',  'Mumbai',  'Mumbai', ]\n",
    "for index,city in enumerate(city_names):\n",
    "    if city==\"Mumbai\":\n",
    "        print(index,city)"
   ]
  },
  {
   "cell_type": "code",
   "execution_count": null,
   "id": "f7c2458c",
   "metadata": {},
   "outputs": [],
   "source": [
    "## count()"
   ]
  },
  {
   "cell_type": "code",
   "execution_count": 39,
   "id": "c8257344",
   "metadata": {},
   "outputs": [
    {
     "data": {
      "text/plain": [
       "5"
      ]
     },
     "execution_count": 39,
     "metadata": {},
     "output_type": "execute_result"
    }
   ],
   "source": [
    "l1=[1,2,3,3,4,4,4,4,4]\n",
    "l1.count(4)"
   ]
  },
  {
   "cell_type": "code",
   "execution_count": 50,
   "id": "15a8cdcf",
   "metadata": {},
   "outputs": [
    {
     "name": "stdout",
     "output_type": "stream",
     "text": [
      "count of this == 1\n",
      "count of is == 1\n",
      "count of python == 1\n",
      "count of and == 1\n",
      "count of language == 1\n"
     ]
    }
   ],
   "source": [
    "# word count program\n",
    "l1=\"this is python and python is language\"\n",
    "l1=l1.split()\n",
    "l2=[]\n",
    "for word in l1:\n",
    "    if word not in l2:\n",
    "        l2.append(word)\n",
    "        count=(l2.count(word))\n",
    "        print(f\"count of {word} == {count}\")\n"
   ]
  },
  {
   "cell_type": "code",
   "execution_count": null,
   "id": "12066496",
   "metadata": {},
   "outputs": [],
   "source": [
    "## copy()"
   ]
  },
  {
   "cell_type": "code",
   "execution_count": 54,
   "id": "7249b2a9",
   "metadata": {},
   "outputs": [
    {
     "name": "stdout",
     "output_type": "stream",
     "text": [
      "L1 : [1, 2, 3, [4, 5000, 6]]\n",
      "L2 : [1, 2, 3, [4, 5, 6]]\n"
     ]
    }
   ],
   "source": [
    "#----------------shallow copy in case of normal list-------------\n",
    "#if we make changes in l1 it will not reflect in l2\n",
    "l1=[1,2,3]\n",
    "l2=l1.copy()\n",
    "l1.append(4)\n",
    "print(l1)\n",
    "print(l2)\n",
    "\n",
    "#-------------in case of nested list------------------\n",
    "#here as list is nested we face below problem so we need to import copy\n",
    "l1=[1,2,3,[4,5,6]]\n",
    "l2=l1.copy()\n",
    "l1[3][1]=5000\n",
    "print(\"l1\", l1)\n",
    "print(\"l2\", l2)\n",
    "\n",
    "import copy\n",
    "l1 = [1,2,3,[4,5,6]] \n",
    "l2 = copy.deepcopy(l1) # deep copy from import copy\n",
    "l1[3][1] = 5000\n",
    "print(\"L1 :\",l1)\n",
    "print(\"L2 :\",l2)"
   ]
  },
  {
   "cell_type": "code",
   "execution_count": null,
   "id": "953bf051",
   "metadata": {},
   "outputs": [],
   "source": [
    "## sort()"
   ]
  },
  {
   "cell_type": "code",
   "execution_count": 58,
   "id": "cabc19b8",
   "metadata": {},
   "outputs": [
    {
     "name": "stdout",
     "output_type": "stream",
     "text": [
      "[9, 11, 20, 111, 200]\n",
      "[200, 111, 20, 11, 9]\n",
      "['A', 'D', 'Z', 'a', 'b', 'z']\n",
      "['z', 'b', 'a', 'Z', 'D', 'A']\n"
     ]
    },
    {
     "ename": "TypeError",
     "evalue": "'<' not supported between instances of 'str' and 'int'",
     "output_type": "error",
     "traceback": [
      "\u001b[1;31m---------------------------------------------------------------------------\u001b[0m",
      "\u001b[1;31mTypeError\u001b[0m                                 Traceback (most recent call last)",
      "Input \u001b[1;32mIn [58]\u001b[0m, in \u001b[0;36m<cell line: 14>\u001b[1;34m()\u001b[0m\n\u001b[0;32m     11\u001b[0m \u001b[38;5;28mprint\u001b[39m(l2)\n\u001b[0;32m     13\u001b[0m l3\u001b[38;5;241m=\u001b[39m[\u001b[38;5;241m1\u001b[39m,\u001b[38;5;241m2\u001b[39m,\u001b[38;5;241m3\u001b[39m,\u001b[38;5;124m\"\u001b[39m\u001b[38;5;124ma\u001b[39m\u001b[38;5;124m\"\u001b[39m,\u001b[38;5;124m\"\u001b[39m\u001b[38;5;124mb\u001b[39m\u001b[38;5;124m\"\u001b[39m]\n\u001b[1;32m---> 14\u001b[0m \u001b[43ml3\u001b[49m\u001b[38;5;241;43m.\u001b[39;49m\u001b[43msort\u001b[49m\u001b[43m(\u001b[49m\u001b[43m)\u001b[49m\n\u001b[0;32m     15\u001b[0m \u001b[38;5;28mprint\u001b[39m(l3)\n",
      "\u001b[1;31mTypeError\u001b[0m: '<' not supported between instances of 'str' and 'int'"
     ]
    }
   ],
   "source": [
    "l1=[11,9,20,200,111]\n",
    "l1.sort() #-->ascending order\n",
    "print(l1)\n",
    "l1.sort(reverse=True) #-->descending order\n",
    "print(l1)\n",
    "\n",
    "l2=[\"D\",\"b\",\"a\",\"z\",\"A\",\"Z\"]\n",
    "l2.sort() #ascending order A<Z<a<z\n",
    "print(l2)\n",
    "l2.sort(reverse=True) #decending order z>a>Z>A\n",
    "print(l2)\n",
    "\n",
    "l3=[1,2,3,\"a\",\"b\"]\n",
    "l3.sort() #we cannot sort list containing diff datatype like int and str\n",
    "print(l3)"
   ]
  },
  {
   "cell_type": "code",
   "execution_count": null,
   "id": "e54ca723",
   "metadata": {},
   "outputs": [],
   "source": [
    "## reverse()"
   ]
  },
  {
   "cell_type": "code",
   "execution_count": 62,
   "id": "450290c8",
   "metadata": {},
   "outputs": [
    {
     "name": "stdout",
     "output_type": "stream",
     "text": [
      "['b', 'a', 3, 2, 1]\n",
      "['b', 'a', 3, 2, 1]\n"
     ]
    }
   ],
   "source": [
    "l1=[1,2,3,\"a\",\"b\"]\n",
    "l1.reverse()\n",
    "print(l1)\n",
    "\n",
    "l2=[1,2,3,\"a\",\"b\"]\n",
    "print(l2[::-1]) # using slicing"
   ]
  },
  {
   "cell_type": "code",
   "execution_count": null,
   "id": "529183df",
   "metadata": {},
   "outputs": [],
   "source": [
    "## built in function of list data type"
   ]
  },
  {
   "cell_type": "code",
   "execution_count": null,
   "id": "b21d74b6",
   "metadata": {},
   "outputs": [],
   "source": [
    "## sorted()"
   ]
  },
  {
   "cell_type": "code",
   "execution_count": 66,
   "id": "c37c0044",
   "metadata": {},
   "outputs": [
    {
     "name": "stdout",
     "output_type": "stream",
     "text": [
      "[1, 2, 1, 8, 3]\n",
      "[1, 1, 2, 3, 8]\n",
      "[8, 3, 2, 1, 1]\n"
     ]
    }
   ],
   "source": [
    "l1=[1,2,1,8,3]\n",
    "print(l1)\n",
    "l2=sorted(l1) #while using in built function assigning variable is important\n",
    "print(l2)\n",
    "l3=sorted(l1,reverse=True) #reverse soritng\n",
    "print(l3)"
   ]
  },
  {
   "cell_type": "code",
   "execution_count": null,
   "id": "ac0e42bc",
   "metadata": {},
   "outputs": [],
   "source": [
    "## reversed()"
   ]
  },
  {
   "cell_type": "code",
   "execution_count": 68,
   "id": "1050503a",
   "metadata": {},
   "outputs": [
    {
     "name": "stdout",
     "output_type": "stream",
     "text": [
      "[3, 4, 3, 2, 1]\n"
     ]
    }
   ],
   "source": [
    "l1=[1,2,3,4,3]\n",
    "l2=list(reversed(l1))\n",
    "print(l2)"
   ]
  },
  {
   "cell_type": "code",
   "execution_count": null,
   "id": "9adbbc1a",
   "metadata": {},
   "outputs": [],
   "source": [
    "## max min sum"
   ]
  },
  {
   "cell_type": "code",
   "execution_count": 69,
   "id": "38da1091",
   "metadata": {},
   "outputs": [
    {
     "name": "stdout",
     "output_type": "stream",
     "text": [
      "4444\n",
      "0\n",
      "4491\n"
     ]
    }
   ],
   "source": [
    "l1=[1,2,11,33,4444,0]\n",
    "print(max(l1))\n",
    "print(min(l1))\n",
    "print(sum(l1))"
   ]
  },
  {
   "cell_type": "code",
   "execution_count": 2,
   "id": "d21d25e6",
   "metadata": {},
   "outputs": [
    {
     "name": "stdout",
     "output_type": "stream",
     "text": [
      "n is first repeted cahr of string\n"
     ]
    }
   ],
   "source": [
    "## assign 1 que 24\n",
    "s1=\"python and data science\"\n",
    "s2=''\n",
    "for i in s1:\n",
    "    if i not in s2:\n",
    "        s2=s2+i\n",
    "    else:\n",
    "        print(f\"{i} is first repeted cahr of string\")\n",
    "        break"
   ]
  },
  {
   "cell_type": "raw",
   "id": "e98035b0",
   "metadata": {},
   "source": [
    "# list comprehension\n",
    "Syntax :\n",
    "    \n",
    "new_list = [expressions for var in sequence]\n",
    "new_list = [expressions for var in sequence if condition == True]\n",
    "new_list = [short-hand if-else expression for var in sequence]\n",
    "new_list = [[for var2 in sequence2] for var1 in sequence1]"
   ]
  },
  {
   "cell_type": "code",
   "execution_count": null,
   "id": "427631ac",
   "metadata": {},
   "outputs": [],
   "source": [
    "list1 = [3,4,5,6,7,8]\n",
    "cube_list = [1000 for i in list1]\n",
    "cube_list"
   ]
  },
  {
   "cell_type": "code",
   "execution_count": null,
   "id": "42fcc142",
   "metadata": {},
   "outputs": [],
   "source": [
    "string = 'Python'\n",
    "new_list = [char.upper() for char in string]\n",
    "new_list"
   ]
  },
  {
   "cell_type": "code",
   "execution_count": null,
   "id": "c0d1ac59",
   "metadata": {},
   "outputs": [],
   "source": [
    "list1 = [3,4,5,6,7]\n",
    "list2 = [10,20,30,40,50]\n",
    "new_list = [val + list2[index] for index,val in enumerate(list1) ]\n",
    "new_list"
   ]
  },
  {
   "cell_type": "code",
   "execution_count": null,
   "id": "ab24659c",
   "metadata": {},
   "outputs": [],
   "source": [
    "days_list = ['Monday','Tuesday','Wednesday','Thursday','Friday','Saturday','Sunday']\n",
    "new_list = [day for day in days_list if len(day) == 6]\n",
    "new_list"
   ]
  },
  {
   "cell_type": "code",
   "execution_count": null,
   "id": "22533963",
   "metadata": {},
   "outputs": [],
   "source": [
    "matrix = [ [j for j in range(3,6)] for i in range(4)]\n",
    "matrix"
   ]
  }
 ],
 "metadata": {
  "kernelspec": {
   "display_name": "Python 3 (ipykernel)",
   "language": "python",
   "name": "python3"
  },
  "language_info": {
   "codemirror_mode": {
    "name": "ipython",
    "version": 3
   },
   "file_extension": ".py",
   "mimetype": "text/x-python",
   "name": "python",
   "nbconvert_exporter": "python",
   "pygments_lexer": "ipython3",
   "version": "3.10.6"
  }
 },
 "nbformat": 4,
 "nbformat_minor": 5
}
